{
  "nbformat": 4,
  "nbformat_minor": 0,
  "metadata": {
    "colab": {
      "name": "(2일차) R 프로그래밍 기초",
      "provenance": [],
      "collapsed_sections": []
    },
    "kernelspec": {
      "name": "ir",
      "display_name": "R"
    },
    "language_info": {
      "name": "R"
    }
  },
  "cells": [
    {
      "cell_type": "code",
      "source": [
        "# Colab 실행코드\n",
        "# 셀 실행 : Ctrl + Enter\n",
        "# 셀 실행 후 다음 셀 생성 : Alt + Enter\n",
        "# 셀 실행 후 다음 셀 이동 : Shift + Enter\n",
        "\n",
        "# 초록색 : 주석\n",
        "# 빨간색 : 오류\n",
        "# 흰색 : 정상코드\n",
        "\n",
        "# 실행완료 시 초록색 시작버튼\n",
        "# 오류 시 빨간색 시작버튼\n",
        "\n",
        "# 문제의 ?를 채운 후 실행(ctrl + enter)하여 제대로 구동되는지 확인"
      ],
      "metadata": {
        "id": "Gc_qgvTQZmoX"
      },
      "execution_count": null,
      "outputs": []
    },
    {
      "cell_type": "markdown",
      "source": [
        "# 18Page 실습 문제"
      ],
      "metadata": {
        "id": "76NTRYZjlakm"
      }
    },
    {
      "cell_type": "code",
      "source": [
        "########################### 18Page 실습 문제 #############################\n",
        "# Q1 : Number, Name, Graduate를 각각의 vector로 생성\n",
        "# 벡터 지정 코드 : c()\n",
        "Number = ?\n",
        "Name = ?\n",
        "Graduate = ? \n",
        "\n",
        "# print() : 데이터 확인 코드\n",
        "print(Number)\n",
        "print(Name)\n",
        "print(Graduate)"
      ],
      "metadata": {
        "id": "WWaEYv_tr49S"
      },
      "execution_count": null,
      "outputs": []
    },
    {
      "cell_type": "code",
      "source": [
        "# 18Page Q2 : Number를 5(nrow)X2(ncol)의 행렬로 표현\n",
        "# 행렬 지정 코드 : matrix(데이터,nrow = 열수,ncol = 행수)\n",
        "mat = ?\n",
        "\n",
        "print(mat)"
      ],
      "metadata": {
        "id": "9TbNIuLatnwe"
      },
      "execution_count": null,
      "outputs": []
    },
    {
      "cell_type": "code",
      "source": [
        "# 18Page Q3 : 3가지 Vector를 list 형태로 생성\n",
        "# 리스트 지정 코드 : list(컬럼명 = 벡터, 컬럼명 = 벡터, 컬럼명 = 벡터 ...)\n",
        "lst = ?\n",
        "\n",
        "# print() : 데이터 확인 코드\n",
        "print(lst)"
      ],
      "metadata": {
        "id": "Kqt5uc9StqHp"
      },
      "execution_count": null,
      "outputs": []
    },
    {
      "cell_type": "code",
      "source": [
        "# 18Page Q4 : 3가지 Vector를 DataFrame 형태로 생성\n",
        "# 데이터프레임 지정 코드 : data.frame(컬럼명 = 벡터, 컬럼명 = 벡터, 컬럼명 = 벡터 ...)\n",
        "df = ?\n",
        "\n",
        "# print() : 데이터 확인 코드\n",
        "print(df)"
      ],
      "metadata": {
        "id": "K7WPkqELtriR"
      },
      "execution_count": null,
      "outputs": []
    },
    {
      "cell_type": "markdown",
      "source": [
        "# 18Page 실습 정답"
      ],
      "metadata": {
        "id": "d_vrbtElll5x"
      }
    },
    {
      "cell_type": "code",
      "source": [
        "# 18Page A1 : Number, Name, Graduate를 각각의 vector로 생성\n",
        "# 벡터 지정 코드 : c()\n",
        "Number = c(1,2,3,4,5,6,7,8,9,10)\n",
        "Name = c('A','B','C','D','E','F','G','H','I','J')\n",
        "Graduate = c(T,F,T,F,T,F,T,F,T,F)\n",
        "\n",
        "# print() : 데이터 확인 코드\n",
        "print(Number)\n",
        "print(Name)\n",
        "print(Graduate)"
      ],
      "metadata": {
        "colab": {
          "base_uri": "https://localhost:8080/"
        },
        "id": "e_To_60Hqx2-",
        "outputId": "a5d408af-8a7e-40bc-eaf8-d36dcfc06ff0"
      },
      "execution_count": null,
      "outputs": [
        {
          "output_type": "stream",
          "name": "stdout",
          "text": [
            " [1]  1  2  3  4  5  6  7  8  9 10\n",
            " [1] \"A\" \"B\" \"C\" \"D\" \"E\" \"F\" \"G\" \"H\" \"I\" \"J\"\n",
            " [1]  TRUE FALSE  TRUE FALSE  TRUE FALSE  TRUE FALSE  TRUE FALSE\n"
          ]
        }
      ]
    },
    {
      "cell_type": "code",
      "source": [
        "# 18Page A2 : Number를 5(nrow)X2(ncol)의 행렬로 표현\n",
        "# 행렬 지정 코드 : matrix(데이터,nrow = 열수,ncol = 행수)\n",
        "mat = matrix(Number,nrow = 5, ncol = 2)\n",
        "\n",
        "print(mat)"
      ],
      "metadata": {
        "colab": {
          "base_uri": "https://localhost:8080/"
        },
        "id": "4Ewrt2xisXSX",
        "outputId": "36cde8ab-e843-49ee-e1ad-ac3a5b6137c9"
      },
      "execution_count": null,
      "outputs": [
        {
          "output_type": "stream",
          "name": "stdout",
          "text": [
            "     [,1] [,2]\n",
            "[1,]    1    6\n",
            "[2,]    2    7\n",
            "[3,]    3    8\n",
            "[4,]    4    9\n",
            "[5,]    5   10\n"
          ]
        }
      ]
    },
    {
      "cell_type": "code",
      "source": [
        "# 18Page A3 : 3가지 Vector를 list 형태로 생성\n",
        "# 리스트 지정 코드 : list(컬럼명 = 벡터, 컬럼명 = 벡터, 컬럼명 = 벡터 ...)\n",
        "lst = list(Number = Number, Name = Name, Graduate = Graduate)\n",
        "\n",
        "print(lst)"
      ],
      "metadata": {
        "colab": {
          "base_uri": "https://localhost:8080/"
        },
        "id": "X9uOvvc_sgHr",
        "outputId": "6fe572bf-d918-46e9-de7b-030c182a183f"
      },
      "execution_count": null,
      "outputs": [
        {
          "output_type": "stream",
          "name": "stdout",
          "text": [
            "$Number\n",
            " [1]  1  2  3  4  5  6  7  8  9 10\n",
            "\n",
            "$Name\n",
            " [1] \"A\" \"B\" \"C\" \"D\" \"E\" \"F\" \"G\" \"H\" \"I\" \"J\"\n",
            "\n",
            "$Graduate\n",
            " [1]  TRUE FALSE  TRUE FALSE  TRUE FALSE  TRUE FALSE  TRUE FALSE\n",
            "\n"
          ]
        }
      ]
    },
    {
      "cell_type": "code",
      "source": [
        "# 18Page A4 : 3가지 Vector를 DataFrame 형태로 생성\n",
        "# 데이터프레임 지정 코드 : data.frame(컬럼명 = 벡터, 컬럼명 = 벡터, 컬럼명 = 벡터 ...)\n",
        "df = data.frame(Number = Number, Name = Name, Graduate = Graduate)\n",
        "\n",
        "print(df)"
      ],
      "metadata": {
        "colab": {
          "base_uri": "https://localhost:8080/"
        },
        "id": "twBT1B5Rd8O1",
        "outputId": "f26771a6-7848-4028-ddad-09ece5364abf"
      },
      "execution_count": null,
      "outputs": [
        {
          "output_type": "stream",
          "name": "stdout",
          "text": [
            "   Number Name Graduate\n",
            "1       1    A     TRUE\n",
            "2       2    B    FALSE\n",
            "3       3    C     TRUE\n",
            "4       4    D    FALSE\n",
            "5       5    E     TRUE\n",
            "6       6    F    FALSE\n",
            "7       7    G     TRUE\n",
            "8       8    H    FALSE\n",
            "9       9    I     TRUE\n",
            "10     10    J    FALSE\n"
          ]
        }
      ]
    },
    {
      "cell_type": "markdown",
      "source": [
        "# 22Page 조건문 예제"
      ],
      "metadata": {
        "id": "ldt_Wc5qlrvl"
      }
    },
    {
      "cell_type": "code",
      "source": [
        "# 22Page 예제\n",
        "# 조건문\n",
        "grade = 75\n",
        "if (grade >= 70) {print('합격')} else {print('불합격')}"
      ],
      "metadata": {
        "colab": {
          "base_uri": "https://localhost:8080/"
        },
        "id": "Fz3UmnIOl6HO",
        "outputId": "b46ad796-423f-418a-ae74-c6575e022fbf"
      },
      "execution_count": null,
      "outputs": [
        {
          "output_type": "stream",
          "name": "stdout",
          "text": [
            "[1] \"합격\"\n"
          ]
        }
      ]
    },
    {
      "cell_type": "markdown",
      "source": [
        "# 23Page 조건문 오류 예제"
      ],
      "metadata": {
        "id": "ni3iEfLiq3ro"
      }
    },
    {
      "cell_type": "code",
      "source": [
        "# 23Page 예제\n",
        "# 조건문 오류 예제\n",
        "vec1 = c(10,20,30)\n",
        "if (vec1 == 10) {print('인사부')} else {print('총무부')}"
      ],
      "metadata": {
        "colab": {
          "base_uri": "https://localhost:8080/",
          "height": 100
        },
        "id": "Y4SCrq6wu2Ov",
        "outputId": "c5a991d7-6e04-49d3-8168-f33698694c02"
      },
      "execution_count": null,
      "outputs": [
        {
          "output_type": "error",
          "ename": "ERROR",
          "evalue": "ignored",
          "traceback": [
            "Error in if (vec1 == 10) {: the condition has length > 1\nTraceback:\n"
          ]
        }
      ]
    },
    {
      "cell_type": "markdown",
      "source": [
        "# 24Page 조건문(else if) 예제"
      ],
      "metadata": {
        "id": "3cRJncjGq9FN"
      }
    },
    {
      "cell_type": "code",
      "source": [
        "# 24Page 예제\n",
        "# else if\n",
        "grade = 'A'\n",
        "if (grade == 'A') {print('합격')\n",
        "} else if (grade == 'B') {print('보류')\n",
        "} else {print('불합격')} "
      ],
      "metadata": {
        "colab": {
          "base_uri": "https://localhost:8080/"
        },
        "id": "BgbGpdqUvwnE",
        "outputId": "22601f03-1370-4b1f-8c64-16e4a3b7121a"
      },
      "execution_count": null,
      "outputs": [
        {
          "output_type": "stream",
          "name": "stdout",
          "text": [
            "[1] \"합격\"\n"
          ]
        }
      ]
    },
    {
      "cell_type": "markdown",
      "source": [
        "# 25Page 조건문(ifelse) 예제"
      ],
      "metadata": {
        "id": "nL4zwe58rDH2"
      }
    },
    {
      "cell_type": "code",
      "source": [
        "# 25Page 예제\n",
        "# ifelse\n",
        "vec1 = c(10,20,30)\n",
        "ifelse(vec1 == 10, '인사부','총무부')\n",
        "\n",
        "# ifelse는 중복사용도 가능합니다\n",
        "ifelse(vec1 == 10, '인사부', ifelse(vec1 == 20, '재무부','총무부'))"
      ],
      "metadata": {
        "colab": {
          "base_uri": "https://localhost:8080/",
          "height": 52
        },
        "id": "40pBd1UPwLWq",
        "outputId": "5da755a9-3602-437e-bd87-4a671a0be5ed"
      },
      "execution_count": null,
      "outputs": [
        {
          "output_type": "display_data",
          "data": {
            "text/html": [
              "<style>\n",
              ".list-inline {list-style: none; margin:0; padding: 0}\n",
              ".list-inline>li {display: inline-block}\n",
              ".list-inline>li:not(:last-child)::after {content: \"\\00b7\"; padding: 0 .5ex}\n",
              "</style>\n",
              "<ol class=list-inline><li>'인사부'</li><li>'총무부'</li><li>'총무부'</li></ol>\n"
            ],
            "text/markdown": "1. '인사부'\n2. '총무부'\n3. '총무부'\n\n\n",
            "text/latex": "\\begin{enumerate*}\n\\item '인사부'\n\\item '총무부'\n\\item '총무부'\n\\end{enumerate*}\n",
            "text/plain": [
              "[1] \"인사부\" \"총무부\" \"총무부\""
            ]
          },
          "metadata": {}
        },
        {
          "output_type": "display_data",
          "data": {
            "text/html": [
              "<style>\n",
              ".list-inline {list-style: none; margin:0; padding: 0}\n",
              ".list-inline>li {display: inline-block}\n",
              ".list-inline>li:not(:last-child)::after {content: \"\\00b7\"; padding: 0 .5ex}\n",
              "</style>\n",
              "<ol class=list-inline><li>'인사부'</li><li>'재무부'</li><li>'총무부'</li></ol>\n"
            ],
            "text/markdown": "1. '인사부'\n2. '재무부'\n3. '총무부'\n\n\n",
            "text/latex": "\\begin{enumerate*}\n\\item '인사부'\n\\item '재무부'\n\\item '총무부'\n\\end{enumerate*}\n",
            "text/plain": [
              "[1] \"인사부\" \"재무부\" \"총무부\""
            ]
          },
          "metadata": {}
        }
      ]
    },
    {
      "cell_type": "markdown",
      "source": [
        "# 26Page 반복문(for) 예제"
      ],
      "metadata": {
        "id": "ar51tJndrGJ9"
      }
    },
    {
      "cell_type": "code",
      "source": [
        "# 26Page 예제\n",
        "# 반복문\n",
        "for (i in c(1:5)) {\n",
        "  print(i)\n",
        "}"
      ],
      "metadata": {
        "colab": {
          "base_uri": "https://localhost:8080/"
        },
        "id": "Ix5sLhcTwdpp",
        "outputId": "659ca6a4-6a2f-4111-89b2-16f3ca9925e6"
      },
      "execution_count": null,
      "outputs": [
        {
          "output_type": "stream",
          "name": "stdout",
          "text": [
            "[1] 1\n",
            "[1] 2\n",
            "[1] 3\n",
            "[1] 4\n",
            "[1] 5\n"
          ]
        }
      ]
    },
    {
      "cell_type": "code",
      "source": [
        "# 26Page 예제\n",
        "# 반복문\n",
        "for (i in c('a','b','c')) {\n",
        "  print(i)\n",
        "}\n"
      ],
      "metadata": {
        "colab": {
          "base_uri": "https://localhost:8080/"
        },
        "id": "WuamjDPmw1Kn",
        "outputId": "4b5da1e6-f43d-4377-9f95-f759a80d58d8"
      },
      "execution_count": null,
      "outputs": [
        {
          "output_type": "stream",
          "name": "stdout",
          "text": [
            "[1] \"a\"\n",
            "[1] \"b\"\n",
            "[1] \"c\"\n"
          ]
        }
      ]
    },
    {
      "cell_type": "code",
      "source": [
        "# 26Page 예제\n",
        "# 반복문\n",
        "for (i in c('a','b','c')) {\n",
        "  print(10)\n",
        "}"
      ],
      "metadata": {
        "id": "N7omdDwww188"
      },
      "execution_count": null,
      "outputs": []
    },
    {
      "cell_type": "markdown",
      "source": [
        "# 27Page While문 예제"
      ],
      "metadata": {
        "id": "R6tpEoLgx4gQ"
      }
    },
    {
      "cell_type": "code",
      "source": [
        "# 27Page 예제\n",
        "# while 문\n",
        "i = 1\n",
        "while (i <= 5) {\n",
        "  print(i)\n",
        "  i = i+1\n",
        "}"
      ],
      "metadata": {
        "id": "ym9b9aRDmBR5",
        "colab": {
          "base_uri": "https://localhost:8080/"
        },
        "outputId": "ea6755a3-96a3-4b2f-fdfb-3dcd16ede2a7"
      },
      "execution_count": null,
      "outputs": [
        {
          "output_type": "stream",
          "name": "stdout",
          "text": [
            "[1] 1\n",
            "[1] 2\n",
            "[1] 3\n",
            "[1] 4\n",
            "[1] 5\n"
          ]
        }
      ]
    },
    {
      "cell_type": "markdown",
      "source": [
        "# 28Page 실습 문제"
      ],
      "metadata": {
        "id": "FgCs5nWJx8Tf"
      }
    },
    {
      "cell_type": "code",
      "source": [
        "########################### 28page 실습 문제 #############################\n",
        "# 28Page Q1 : a가 10인 객체를 생성하고 5이상이면 '높음'이라는 조건문을 생성하라\n",
        "# hint : if문 사용\n",
        "a = ?\n",
        "if (?) {print(?)}"
      ],
      "metadata": {
        "id": "GWHGHrLBxAs2"
      },
      "execution_count": null,
      "outputs": []
    },
    {
      "cell_type": "code",
      "source": [
        "# 28Page Q2 : Number를 사용하여 5이상은 '높음', 5미만은 '작음'이라는 단어의 vector를 생성하라\n",
        "# hint : ifelse()\n",
        "ifelse(?,?,?)"
      ],
      "metadata": {
        "colab": {
          "base_uri": "https://localhost:8080/",
          "height": 34
        },
        "id": "R011kt4TmMdP",
        "outputId": "e6d3afe8-2c0a-4171-c925-c6dbf67256fc"
      },
      "execution_count": null,
      "outputs": [
        {
          "output_type": "display_data",
          "data": {
            "text/html": [
              "<style>\n",
              ".list-inline {list-style: none; margin:0; padding: 0}\n",
              ".list-inline>li {display: inline-block}\n",
              ".list-inline>li:not(:last-child)::after {content: \"\\00b7\"; padding: 0 .5ex}\n",
              "</style>\n",
              "<ol class=list-inline><li>'낮음'</li><li>'낮음'</li><li>'낮음'</li><li>'낮음'</li><li>'높음'</li><li>'높음'</li><li>'높음'</li><li>'높음'</li><li>'높음'</li><li>'높음'</li></ol>\n"
            ],
            "text/markdown": "1. '낮음'\n2. '낮음'\n3. '낮음'\n4. '낮음'\n5. '높음'\n6. '높음'\n7. '높음'\n8. '높음'\n9. '높음'\n10. '높음'\n\n\n",
            "text/latex": "\\begin{enumerate*}\n\\item '낮음'\n\\item '낮음'\n\\item '낮음'\n\\item '낮음'\n\\item '높음'\n\\item '높음'\n\\item '높음'\n\\item '높음'\n\\item '높음'\n\\item '높음'\n\\end{enumerate*}\n",
            "text/plain": [
              " [1] \"낮음\" \"낮음\" \"낮음\" \"낮음\" \"높음\" \"높음\" \"높음\" \"높음\" \"높음\" \"높음\""
            ]
          },
          "metadata": {}
        }
      ]
    },
    {
      "cell_type": "code",
      "source": [
        "# 28Page Q3 : Number를 1~10까지 보여주는 for문을 생성해라\n",
        "# hint : for문 사용\n",
        "for (?) {print(?)}"
      ],
      "metadata": {
        "colab": {
          "base_uri": "https://localhost:8080/"
        },
        "id": "aEH4zxcymQoU",
        "outputId": "bcaed653-10a5-46c2-e733-dea0f69fb467"
      },
      "execution_count": null,
      "outputs": [
        {
          "output_type": "stream",
          "name": "stdout",
          "text": [
            "[1] 1\n",
            "[1] 2\n",
            "[1] 3\n",
            "[1] 4\n",
            "[1] 5\n",
            "[1] 6\n",
            "[1] 7\n",
            "[1] 8\n",
            "[1] 9\n",
            "[1] 10\n"
          ]
        }
      ]
    },
    {
      "cell_type": "code",
      "source": [
        "# 28Page Q4 : 1~5이하의 값만 보여주는 while 문을 생성하라\n",
        "# hint : while문 사용\n",
        "i = ?\n",
        "while (?) {\n",
        "  print(?)\n",
        "  i = i + ? }"
      ],
      "metadata": {
        "id": "QEpKcZFex8J_"
      },
      "execution_count": null,
      "outputs": []
    },
    {
      "cell_type": "code",
      "source": [
        "# 28Page 보너스 문제 1 : Number을 사용해서 순차적으로 5미만의 숫자는 '낮음', 5이상의 숫자는 '높음'을 나타내도록 for, if문을 활용해서 생성하라\n",
        "# hint : for, if문 사용\n",
        "for (?) { if (?) {print(?)} else {print(?)}}"
      ],
      "metadata": {
        "id": "N6gT7L7oyQqB"
      },
      "execution_count": null,
      "outputs": []
    },
    {
      "cell_type": "code",
      "source": [
        "# 28Page 보너스 문제 2 : 5이하의 숫자 중 3미만의 숫자는 '낮음', 3이상의 숫자는 '높음'을 while, if문을 활용해 생성하라\n",
        "# hint : while, if문 사용\n",
        "i = ?\n",
        "while(?) {\n",
        "  if (?) {print(?)}\n",
        "  else {print(?)}\n",
        "  i = i + ?\n",
        "}"
      ],
      "metadata": {
        "id": "ix7z_VjEyxkd"
      },
      "execution_count": null,
      "outputs": []
    },
    {
      "cell_type": "markdown",
      "source": [
        "# 28Page 실습 문제 정답"
      ],
      "metadata": {
        "id": "G-WGM5d5yK4Z"
      }
    },
    {
      "cell_type": "code",
      "source": [
        "########################### 28page 문제 정답 #############################\n",
        "# 28Page A1 : a가 10인 객체를 생성하고 5이상이면 '높음'이라는 조건문을 생성하라\n",
        "# hint : if문 사용\n",
        "a = 10\n",
        "if (a >= 5) {print('높음')}"
      ],
      "metadata": {
        "colab": {
          "base_uri": "https://localhost:8080/"
        },
        "id": "n1ikbuYBmf_9",
        "outputId": "eef82c82-c82f-4a8c-ae8a-a835824f3c79"
      },
      "execution_count": null,
      "outputs": [
        {
          "output_type": "stream",
          "name": "stdout",
          "text": [
            "[1] \"높음\"\n"
          ]
        }
      ]
    },
    {
      "cell_type": "code",
      "source": [
        "# 28Page A2 : Number를 사용하여 5이상은 '높음', 5미만은 '작음'이라는 단어의 vector를 생성하라\n",
        "# hint : ifelse()\n",
        "ifelse(Number,'높음','낮음')"
      ],
      "metadata": {
        "colab": {
          "base_uri": "https://localhost:8080/",
          "height": 34
        },
        "id": "hHubjU6Yzd4U",
        "outputId": "bf7058ad-f304-46ab-9b61-07ab81c25144"
      },
      "execution_count": null,
      "outputs": [
        {
          "output_type": "display_data",
          "data": {
            "text/html": [
              "<style>\n",
              ".list-inline {list-style: none; margin:0; padding: 0}\n",
              ".list-inline>li {display: inline-block}\n",
              ".list-inline>li:not(:last-child)::after {content: \"\\00b7\"; padding: 0 .5ex}\n",
              "</style>\n",
              "<ol class=list-inline><li>'높음'</li><li>'높음'</li><li>'높음'</li><li>'높음'</li><li>'높음'</li><li>'높음'</li><li>'높음'</li><li>'높음'</li><li>'높음'</li><li>'높음'</li></ol>\n"
            ],
            "text/markdown": "1. '높음'\n2. '높음'\n3. '높음'\n4. '높음'\n5. '높음'\n6. '높음'\n7. '높음'\n8. '높음'\n9. '높음'\n10. '높음'\n\n\n",
            "text/latex": "\\begin{enumerate*}\n\\item '높음'\n\\item '높음'\n\\item '높음'\n\\item '높음'\n\\item '높음'\n\\item '높음'\n\\item '높음'\n\\item '높음'\n\\item '높음'\n\\item '높음'\n\\end{enumerate*}\n",
            "text/plain": [
              " [1] \"높음\" \"높음\" \"높음\" \"높음\" \"높음\" \"높음\" \"높음\" \"높음\" \"높음\" \"높음\""
            ]
          },
          "metadata": {}
        }
      ]
    },
    {
      "cell_type": "code",
      "source": [
        "# 28Page A3 : Number를 1~10까지 보여주는 for문을 생성해라\n",
        "# hint : for문 사용\n",
        "for (i in Number) {print(i)}"
      ],
      "metadata": {
        "colab": {
          "base_uri": "https://localhost:8080/"
        },
        "id": "_wNcfSEcziXJ",
        "outputId": "5ab225ca-d1c2-4fb9-d5ec-78b7669c3e9c"
      },
      "execution_count": null,
      "outputs": [
        {
          "output_type": "stream",
          "name": "stdout",
          "text": [
            "[1] 1\n",
            "[1] 2\n",
            "[1] 3\n",
            "[1] 4\n",
            "[1] 5\n",
            "[1] 6\n",
            "[1] 7\n",
            "[1] 8\n",
            "[1] 9\n",
            "[1] 10\n"
          ]
        }
      ]
    },
    {
      "cell_type": "code",
      "source": [
        "# 28Page A4 : 1~5이하의 값만 보여주는 while 문을 생성하라\n",
        "# hint : while문 사용\n",
        "i = 1\n",
        "while (i <= 5) {\n",
        "  print(i)\n",
        "  i = i + 1 }"
      ],
      "metadata": {
        "colab": {
          "base_uri": "https://localhost:8080/"
        },
        "id": "B_zEYj7Kz2DO",
        "outputId": "bacb0643-9a12-4423-83bc-b09ed1b64e3d"
      },
      "execution_count": null,
      "outputs": [
        {
          "output_type": "stream",
          "name": "stdout",
          "text": [
            "[1] 1\n",
            "[1] 2\n",
            "[1] 3\n",
            "[1] 4\n",
            "[1] 5\n"
          ]
        }
      ]
    },
    {
      "cell_type": "code",
      "source": [
        "# 28Page 보너스 문제 A1 : Number을 사용해서 순차적으로 5미만의 숫자는 '낮음', 5이상의 숫자는 '높음'을 나타내도록 for, if문을 활용해서 생성하라\n",
        "# hint : for, if문 사용\n",
        "for (i in Number) { if (i < 5) {print('낮음')} else {print('높음')}}"
      ],
      "metadata": {
        "colab": {
          "base_uri": "https://localhost:8080/"
        },
        "id": "4e9eodHiz68e",
        "outputId": "f95e7e2a-c04a-466d-cf15-d830c9bd80bb"
      },
      "execution_count": null,
      "outputs": [
        {
          "output_type": "stream",
          "name": "stdout",
          "text": [
            "[1] \"낮음\"\n",
            "[1] \"낮음\"\n",
            "[1] \"낮음\"\n",
            "[1] \"낮음\"\n",
            "[1] \"높음\"\n",
            "[1] \"높음\"\n",
            "[1] \"높음\"\n",
            "[1] \"높음\"\n",
            "[1] \"높음\"\n",
            "[1] \"높음\"\n"
          ]
        }
      ]
    },
    {
      "cell_type": "code",
      "source": [
        "# 28Page 보너스 문제 2 : 5이하의 숫자 중 3미만의 숫자는 '낮음', 3이상의 숫자는 '높음'을 while, if문을 활용해 생성하라\n",
        "# hint : while, if문 사용\n",
        "i = 1\n",
        "while(i<=5) {\n",
        "  if (i < 3) {print('낮음')}\n",
        "  else {print('높음')}\n",
        "  i = i + 1\n",
        "}"
      ],
      "metadata": {
        "colab": {
          "base_uri": "https://localhost:8080/"
        },
        "id": "Lk3r3gA40EHW",
        "outputId": "cf34af13-0ee8-4d1f-a909-bc7c304aacdb"
      },
      "execution_count": null,
      "outputs": [
        {
          "output_type": "stream",
          "name": "stdout",
          "text": [
            "[1] \"낮음\"\n",
            "[1] \"낮음\"\n",
            "[1] \"높음\"\n",
            "[1] \"높음\"\n",
            "[1] \"높음\"\n"
          ]
        }
      ]
    },
    {
      "cell_type": "markdown",
      "source": [
        "# 33Page 예제 (employee 데이터 불러오기)"
      ],
      "metadata": {
        "id": "1CNSLNqTyQIy"
      }
    },
    {
      "cell_type": "code",
      "source": [
        "# 33Page 예제\n",
        "install.packages('stima')\n",
        "library(stima)\n",
        "data(employee)"
      ],
      "metadata": {
        "colab": {
          "base_uri": "https://localhost:8080/"
        },
        "id": "ufArcnLDnosC",
        "outputId": "668c8c16-67cd-4ea4-9e1a-f6f3f3f4fb11"
      },
      "execution_count": null,
      "outputs": [
        {
          "output_type": "stream",
          "name": "stderr",
          "text": [
            "Installing package into ‘/usr/local/lib/R/site-library’\n",
            "(as ‘lib’ is unspecified)\n",
            "\n"
          ]
        }
      ]
    },
    {
      "cell_type": "markdown",
      "source": [
        "# str() : 데이터프레임의 구조를 확인할 수 있는 코드"
      ],
      "metadata": {
        "id": "sKO3A8xryVCw"
      }
    },
    {
      "cell_type": "code",
      "source": [
        "# 33Page 예제 데이터 구조 확인\n",
        "str(employee)"
      ],
      "metadata": {
        "colab": {
          "base_uri": "https://localhost:8080/"
        },
        "id": "1Tjk7Bu30Rne",
        "outputId": "db43e7fb-d0a7-47ab-b1dd-740e397b2c77"
      },
      "execution_count": null,
      "outputs": [
        {
          "output_type": "stream",
          "name": "stdout",
          "text": [
            "'data.frame':\t473 obs. of  9 variables:\n",
            " $ salary  : int  57000 40200 21450 21900 45000 32100 36000 21900 27900 24000 ...\n",
            " $ age     : int  36 30 59 41 33 30 32 22 42 42 ...\n",
            " $ edu     : int  15 16 12 8 15 15 15 12 15 12 ...\n",
            " $ startsal: int  27000 18750 12000 13200 21000 13500 18750 9750 12750 13500 ...\n",
            " $ jobtime : int  98 98 98 98 98 98 98 98 98 98 ...\n",
            " $ prevexp : int  144 36 381 190 138 67 114 0 115 244 ...\n",
            " $ minority: Factor w/ 2 levels \"min\",\"no_min\": 2 2 2 2 2 2 2 2 2 2 ...\n",
            " $ gender  : Factor w/ 2 levels \"f\",\"m\": 2 2 1 1 2 2 2 1 1 1 ...\n",
            " $ jobcat  : Factor w/ 3 levels \"Clerical\",\"Custodial\",..: 3 1 1 1 1 1 1 1 1 1 ...\n"
          ]
        }
      ]
    },
    {
      "cell_type": "markdown",
      "source": [
        "# summary() : 데이터프레임의 분포를 확인할 수 있는 코드"
      ],
      "metadata": {
        "id": "1OsjUFTZyZlN"
      }
    },
    {
      "cell_type": "code",
      "source": [
        "# 33Page 예제 데이터 분포 확인\n",
        "summary(employee)"
      ],
      "metadata": {
        "colab": {
          "base_uri": "https://localhost:8080/",
          "height": 275
        },
        "id": "GTqbz8d46GhZ",
        "outputId": "6f6db0f6-8df8-49cc-a818-44e41ba59a69"
      },
      "execution_count": null,
      "outputs": [
        {
          "output_type": "display_data",
          "data": {
            "text/plain": [
              "     salary            age             edu           startsal    \n",
              " Min.   : 15750   Min.   :17.00   Min.   : 8.00   Min.   : 9000  \n",
              " 1st Qu.: 24000   1st Qu.:23.00   1st Qu.:12.00   1st Qu.:12450  \n",
              " Median : 28800   Median :26.00   Median :12.00   Median :15000  \n",
              " Mean   : 34418   Mean   :31.67   Mean   :13.49   Mean   :17009  \n",
              " 3rd Qu.: 37050   3rd Qu.:40.00   3rd Qu.:15.00   3rd Qu.:17490  \n",
              " Max.   :135000   Max.   :59.00   Max.   :21.00   Max.   :79980  \n",
              "    jobtime         prevexp         minority   gender        jobcat   \n",
              " Min.   :63.00   Min.   :  0.00   min   :104   f:216   Clerical :362  \n",
              " 1st Qu.:72.00   1st Qu.: 19.00   no_min:369   m:257   Custodial: 27  \n",
              " Median :81.00   Median : 55.00                        manager  : 84  \n",
              " Mean   :81.14   Mean   : 95.95                                       \n",
              " 3rd Qu.:90.00   3rd Qu.:139.00                                       \n",
              " Max.   :98.00   Max.   :476.00                                       "
            ]
          },
          "metadata": {}
        }
      ]
    },
    {
      "cell_type": "markdown",
      "source": [
        "# 34Page 원하는 row or column 선별 예제"
      ],
      "metadata": {
        "id": "etpfh3kayfoo"
      }
    },
    {
      "cell_type": "code",
      "source": [
        "# 34Page Data.frame은 행열로 이루어져있다!\n",
        "# 원하는 row or column 선별\n",
        "print(employee[1:10,]) # row 선별\n",
        "\n",
        "print(employee[,1]) # column 선별\n",
        "print(employee['salary']) # column 선별\n",
        "print(employee$salary) # column 선별"
      ],
      "metadata": {
        "id": "OgV6bcW10cki"
      },
      "execution_count": null,
      "outputs": []
    },
    {
      "cell_type": "markdown",
      "source": [
        "# 35Page 예제 (비교 함수)"
      ],
      "metadata": {
        "id": "jF8DwPkEyjnd"
      }
    },
    {
      "cell_type": "code",
      "source": [
        "# 35Page 예제\n",
        "# 데이터의 선별은 데이터 비교를 통해 이뤄진다.\n",
        "# 숫자 비교 함수 : >, < , ==, !=\n",
        "# 문지 비교 함수 : ==, !=\n",
        "# True는 선별하고, False는 제외한다\n",
        "\n",
        "# 나이가 50이상 여부\n",
        "employee$age >= 50"
      ],
      "metadata": {
        "colab": {
          "base_uri": "https://localhost:8080/",
          "height": 173
        },
        "id": "gPWdZ27gF4mJ",
        "outputId": "524b6bbe-b2a5-4823-bd71-a621d17822db"
      },
      "execution_count": null,
      "outputs": [
        {
          "output_type": "display_data",
          "data": {
            "text/html": [
              "<style>\n",
              ".list-inline {list-style: none; margin:0; padding: 0}\n",
              ".list-inline>li {display: inline-block}\n",
              ".list-inline>li:not(:last-child)::after {content: \"\\00b7\"; padding: 0 .5ex}\n",
              "</style>\n",
              "<ol class=list-inline><li>TRUE</li><li>TRUE</li><li>TRUE</li><li>TRUE</li><li>TRUE</li><li>TRUE</li><li>TRUE</li><li>TRUE</li><li>TRUE</li><li>TRUE</li><li>TRUE</li><li>TRUE</li><li>TRUE</li><li>TRUE</li><li>TRUE</li><li>TRUE</li><li>TRUE</li><li>TRUE</li><li>TRUE</li><li>TRUE</li><li>TRUE</li><li>TRUE</li><li>TRUE</li><li>TRUE</li><li>TRUE</li><li>TRUE</li><li>TRUE</li><li>TRUE</li><li>TRUE</li><li>TRUE</li><li>TRUE</li><li>TRUE</li><li>TRUE</li><li>TRUE</li><li>TRUE</li><li>TRUE</li><li>TRUE</li><li>TRUE</li><li>TRUE</li><li>TRUE</li><li>TRUE</li><li>TRUE</li><li>TRUE</li><li>TRUE</li><li>FALSE</li><li>TRUE</li><li>FALSE</li><li>TRUE</li><li>TRUE</li><li>TRUE</li><li>TRUE</li><li>TRUE</li><li>TRUE</li><li>TRUE</li><li>TRUE</li><li>TRUE</li><li>TRUE</li><li>TRUE</li><li>TRUE</li><li>TRUE</li><li>TRUE</li><li>TRUE</li><li>TRUE</li><li>TRUE</li><li>TRUE</li><li>TRUE</li><li>TRUE</li><li>TRUE</li><li>TRUE</li><li>TRUE</li><li>TRUE</li><li>TRUE</li><li>TRUE</li><li>TRUE</li><li>TRUE</li><li>TRUE</li><li>TRUE</li><li>TRUE</li><li>TRUE</li><li>TRUE</li><li>TRUE</li><li>TRUE</li><li>TRUE</li><li>TRUE</li><li>TRUE</li><li>TRUE</li><li>TRUE</li><li>TRUE</li><li>TRUE</li><li>FALSE</li><li>TRUE</li><li>TRUE</li><li>TRUE</li><li>TRUE</li><li>TRUE</li><li>TRUE</li><li>TRUE</li><li>TRUE</li><li>TRUE</li><li>TRUE</li><li>TRUE</li><li>TRUE</li><li>TRUE</li><li>TRUE</li><li>TRUE</li><li>TRUE</li><li>TRUE</li><li>TRUE</li><li>TRUE</li><li>TRUE</li><li>TRUE</li><li>TRUE</li><li>TRUE</li><li>TRUE</li><li>TRUE</li><li>TRUE</li><li>TRUE</li><li>TRUE</li><li>TRUE</li><li>TRUE</li><li>TRUE</li><li>TRUE</li><li>TRUE</li><li>TRUE</li><li>TRUE</li><li>TRUE</li><li>TRUE</li><li>TRUE</li><li>TRUE</li><li>TRUE</li><li>TRUE</li><li>TRUE</li><li>TRUE</li><li>TRUE</li><li>TRUE</li><li>TRUE</li><li>TRUE</li><li>TRUE</li><li>TRUE</li><li>TRUE</li><li>TRUE</li><li>TRUE</li><li>TRUE</li><li>TRUE</li><li>TRUE</li><li>TRUE</li><li>TRUE</li><li>TRUE</li><li>TRUE</li><li>TRUE</li><li>TRUE</li><li>TRUE</li><li>TRUE</li><li>TRUE</li><li>TRUE</li><li>TRUE</li><li>TRUE</li><li>TRUE</li><li>TRUE</li><li>TRUE</li><li>TRUE</li><li>TRUE</li><li>TRUE</li><li>TRUE</li><li>TRUE</li><li>TRUE</li><li>TRUE</li><li>TRUE</li><li>TRUE</li><li>TRUE</li><li>TRUE</li><li>TRUE</li><li>TRUE</li><li>TRUE</li><li>FALSE</li><li>TRUE</li><li>TRUE</li><li>FALSE</li><li>TRUE</li><li>TRUE</li><li>TRUE</li><li>TRUE</li><li>TRUE</li><li>TRUE</li><li>TRUE</li><li>TRUE</li><li>TRUE</li><li>TRUE</li><li>TRUE</li><li>TRUE</li><li>TRUE</li><li>TRUE</li><li>TRUE</li><li>FALSE</li><li>TRUE</li><li>TRUE</li><li>TRUE</li><li>TRUE</li><li>TRUE</li><li>TRUE</li><li>⋯</li><li>TRUE</li><li>TRUE</li><li>TRUE</li><li>TRUE</li><li>TRUE</li><li>TRUE</li><li>TRUE</li><li>TRUE</li><li>TRUE</li><li>TRUE</li><li>TRUE</li><li>TRUE</li><li>TRUE</li><li>TRUE</li><li>TRUE</li><li>TRUE</li><li>TRUE</li><li>TRUE</li><li>TRUE</li><li>TRUE</li><li>TRUE</li><li>TRUE</li><li>TRUE</li><li>TRUE</li><li>TRUE</li><li>TRUE</li><li>TRUE</li><li>TRUE</li><li>TRUE</li><li>FALSE</li><li>TRUE</li><li>TRUE</li><li>TRUE</li><li>TRUE</li><li>TRUE</li><li>TRUE</li><li>TRUE</li><li>TRUE</li><li>TRUE</li><li>TRUE</li><li>TRUE</li><li>TRUE</li><li>TRUE</li><li>TRUE</li><li>TRUE</li><li>TRUE</li><li>TRUE</li><li>TRUE</li><li>FALSE</li><li>TRUE</li><li>TRUE</li><li>TRUE</li><li>TRUE</li><li>TRUE</li><li>TRUE</li><li>TRUE</li><li>TRUE</li><li>TRUE</li><li>TRUE</li><li>TRUE</li><li>TRUE</li><li>TRUE</li><li>TRUE</li><li>TRUE</li><li>FALSE</li><li>TRUE</li><li>TRUE</li><li>TRUE</li><li>TRUE</li><li>TRUE</li><li>TRUE</li><li>TRUE</li><li>TRUE</li><li>TRUE</li><li>TRUE</li><li>FALSE</li><li>TRUE</li><li>TRUE</li><li>TRUE</li><li>TRUE</li><li>TRUE</li><li>TRUE</li><li>TRUE</li><li>TRUE</li><li>TRUE</li><li>TRUE</li><li>TRUE</li><li>TRUE</li><li>TRUE</li><li>TRUE</li><li>TRUE</li><li>TRUE</li><li>TRUE</li><li>TRUE</li><li>TRUE</li><li>TRUE</li><li>TRUE</li><li>TRUE</li><li>TRUE</li><li>TRUE</li><li>TRUE</li><li>TRUE</li><li>TRUE</li><li>TRUE</li><li>TRUE</li><li>FALSE</li><li>TRUE</li><li>TRUE</li><li>TRUE</li><li>TRUE</li><li>TRUE</li><li>TRUE</li><li>TRUE</li><li>TRUE</li><li>TRUE</li><li>TRUE</li><li>TRUE</li><li>TRUE</li><li>TRUE</li><li>TRUE</li><li>TRUE</li><li>TRUE</li><li>TRUE</li><li>TRUE</li><li>TRUE</li><li>TRUE</li><li>TRUE</li><li>TRUE</li><li>TRUE</li><li>TRUE</li><li>TRUE</li><li>TRUE</li><li>TRUE</li><li>TRUE</li><li>TRUE</li><li>TRUE</li><li>TRUE</li><li>TRUE</li><li>TRUE</li><li>TRUE</li><li>TRUE</li><li>TRUE</li><li>TRUE</li><li>TRUE</li><li>TRUE</li><li>TRUE</li><li>TRUE</li><li>TRUE</li><li>TRUE</li><li>TRUE</li><li>TRUE</li><li>TRUE</li><li>TRUE</li><li>TRUE</li><li>TRUE</li><li>TRUE</li><li>TRUE</li><li>TRUE</li><li>TRUE</li><li>TRUE</li><li>TRUE</li><li>TRUE</li><li>TRUE</li><li>TRUE</li><li>TRUE</li><li>TRUE</li><li>TRUE</li><li>TRUE</li><li>TRUE</li><li>TRUE</li><li>TRUE</li><li>TRUE</li><li>TRUE</li><li>TRUE</li><li>TRUE</li><li>TRUE</li><li>TRUE</li><li>TRUE</li><li>TRUE</li><li>TRUE</li><li>TRUE</li><li>TRUE</li><li>TRUE</li><li>TRUE</li><li>TRUE</li><li>TRUE</li><li>TRUE</li><li>TRUE</li><li>TRUE</li><li>TRUE</li><li>TRUE</li><li>TRUE</li><li>TRUE</li><li>TRUE</li><li>TRUE</li><li>TRUE</li><li>TRUE</li><li>TRUE</li><li>TRUE</li><li>TRUE</li></ol>\n"
            ],
            "text/markdown": "1. TRUE\n2. TRUE\n3. TRUE\n4. TRUE\n5. TRUE\n6. TRUE\n7. TRUE\n8. TRUE\n9. TRUE\n10. TRUE\n11. TRUE\n12. TRUE\n13. TRUE\n14. TRUE\n15. TRUE\n16. TRUE\n17. TRUE\n18. TRUE\n19. TRUE\n20. TRUE\n21. TRUE\n22. TRUE\n23. TRUE\n24. TRUE\n25. TRUE\n26. TRUE\n27. TRUE\n28. TRUE\n29. TRUE\n30. TRUE\n31. TRUE\n32. TRUE\n33. TRUE\n34. TRUE\n35. TRUE\n36. TRUE\n37. TRUE\n38. TRUE\n39. TRUE\n40. TRUE\n41. TRUE\n42. TRUE\n43. TRUE\n44. TRUE\n45. FALSE\n46. TRUE\n47. FALSE\n48. TRUE\n49. TRUE\n50. TRUE\n51. TRUE\n52. TRUE\n53. TRUE\n54. TRUE\n55. TRUE\n56. TRUE\n57. TRUE\n58. TRUE\n59. TRUE\n60. TRUE\n61. TRUE\n62. TRUE\n63. TRUE\n64. TRUE\n65. TRUE\n66. TRUE\n67. TRUE\n68. TRUE\n69. TRUE\n70. TRUE\n71. TRUE\n72. TRUE\n73. TRUE\n74. TRUE\n75. TRUE\n76. TRUE\n77. TRUE\n78. TRUE\n79. TRUE\n80. TRUE\n81. TRUE\n82. TRUE\n83. TRUE\n84. TRUE\n85. TRUE\n86. TRUE\n87. TRUE\n88. TRUE\n89. TRUE\n90. FALSE\n91. TRUE\n92. TRUE\n93. TRUE\n94. TRUE\n95. TRUE\n96. TRUE\n97. TRUE\n98. TRUE\n99. TRUE\n100. TRUE\n101. TRUE\n102. TRUE\n103. TRUE\n104. TRUE\n105. TRUE\n106. TRUE\n107. TRUE\n108. TRUE\n109. TRUE\n110. TRUE\n111. TRUE\n112. TRUE\n113. TRUE\n114. TRUE\n115. TRUE\n116. TRUE\n117. TRUE\n118. TRUE\n119. TRUE\n120. TRUE\n121. TRUE\n122. TRUE\n123. TRUE\n124. TRUE\n125. TRUE\n126. TRUE\n127. TRUE\n128. TRUE\n129. TRUE\n130. TRUE\n131. TRUE\n132. TRUE\n133. TRUE\n134. TRUE\n135. TRUE\n136. TRUE\n137. TRUE\n138. TRUE\n139. TRUE\n140. TRUE\n141. TRUE\n142. TRUE\n143. TRUE\n144. TRUE\n145. TRUE\n146. TRUE\n147. TRUE\n148. TRUE\n149. TRUE\n150. TRUE\n151. TRUE\n152. TRUE\n153. TRUE\n154. TRUE\n155. TRUE\n156. TRUE\n157. TRUE\n158. TRUE\n159. TRUE\n160. TRUE\n161. TRUE\n162. TRUE\n163. TRUE\n164. TRUE\n165. TRUE\n166. TRUE\n167. TRUE\n168. TRUE\n169. TRUE\n170. TRUE\n171. TRUE\n172. TRUE\n173. TRUE\n174. TRUE\n175. FALSE\n176. TRUE\n177. TRUE\n178. FALSE\n179. TRUE\n180. TRUE\n181. TRUE\n182. TRUE\n183. TRUE\n184. TRUE\n185. TRUE\n186. TRUE\n187. TRUE\n188. TRUE\n189. TRUE\n190. TRUE\n191. TRUE\n192. TRUE\n193. TRUE\n194. FALSE\n195. TRUE\n196. TRUE\n197. TRUE\n198. TRUE\n199. TRUE\n200. TRUE\n201. ⋯\n202. TRUE\n203. TRUE\n204. TRUE\n205. TRUE\n206. TRUE\n207. TRUE\n208. TRUE\n209. TRUE\n210. TRUE\n211. TRUE\n212. TRUE\n213. TRUE\n214. TRUE\n215. TRUE\n216. TRUE\n217. TRUE\n218. TRUE\n219. TRUE\n220. TRUE\n221. TRUE\n222. TRUE\n223. TRUE\n224. TRUE\n225. TRUE\n226. TRUE\n227. TRUE\n228. TRUE\n229. TRUE\n230. TRUE\n231. FALSE\n232. TRUE\n233. TRUE\n234. TRUE\n235. TRUE\n236. TRUE\n237. TRUE\n238. TRUE\n239. TRUE\n240. TRUE\n241. TRUE\n242. TRUE\n243. TRUE\n244. TRUE\n245. TRUE\n246. TRUE\n247. TRUE\n248. TRUE\n249. TRUE\n250. FALSE\n251. TRUE\n252. TRUE\n253. TRUE\n254. TRUE\n255. TRUE\n256. TRUE\n257. TRUE\n258. TRUE\n259. TRUE\n260. TRUE\n261. TRUE\n262. TRUE\n263. TRUE\n264. TRUE\n265. TRUE\n266. FALSE\n267. TRUE\n268. TRUE\n269. TRUE\n270. TRUE\n271. TRUE\n272. TRUE\n273. TRUE\n274. TRUE\n275. TRUE\n276. TRUE\n277. FALSE\n278. TRUE\n279. TRUE\n280. TRUE\n281. TRUE\n282. TRUE\n283. TRUE\n284. TRUE\n285. TRUE\n286. TRUE\n287. TRUE\n288. TRUE\n289. TRUE\n290. TRUE\n291. TRUE\n292. TRUE\n293. TRUE\n294. TRUE\n295. TRUE\n296. TRUE\n297. TRUE\n298. TRUE\n299. TRUE\n300. TRUE\n301. TRUE\n302. TRUE\n303. TRUE\n304. TRUE\n305. TRUE\n306. TRUE\n307. FALSE\n308. TRUE\n309. TRUE\n310. TRUE\n311. TRUE\n312. TRUE\n313. TRUE\n314. TRUE\n315. TRUE\n316. TRUE\n317. TRUE\n318. TRUE\n319. TRUE\n320. TRUE\n321. TRUE\n322. TRUE\n323. TRUE\n324. TRUE\n325. TRUE\n326. TRUE\n327. TRUE\n328. TRUE\n329. TRUE\n330. TRUE\n331. TRUE\n332. TRUE\n333. TRUE\n334. TRUE\n335. TRUE\n336. TRUE\n337. TRUE\n338. TRUE\n339. TRUE\n340. TRUE\n341. TRUE\n342. TRUE\n343. TRUE\n344. TRUE\n345. TRUE\n346. TRUE\n347. TRUE\n348. TRUE\n349. TRUE\n350. TRUE\n351. TRUE\n352. TRUE\n353. TRUE\n354. TRUE\n355. TRUE\n356. TRUE\n357. TRUE\n358. TRUE\n359. TRUE\n360. TRUE\n361. TRUE\n362. TRUE\n363. TRUE\n364. TRUE\n365. TRUE\n366. TRUE\n367. TRUE\n368. TRUE\n369. TRUE\n370. TRUE\n371. TRUE\n372. TRUE\n373. TRUE\n374. TRUE\n375. TRUE\n376. TRUE\n377. TRUE\n378. TRUE\n379. TRUE\n380. TRUE\n381. TRUE\n382. TRUE\n383. TRUE\n384. TRUE\n385. TRUE\n386. TRUE\n387. TRUE\n388. TRUE\n389. TRUE\n390. TRUE\n391. TRUE\n392. TRUE\n393. TRUE\n394. TRUE\n395. TRUE\n396. TRUE\n397. TRUE\n398. TRUE\n399. TRUE\n400. TRUE\n401. TRUE\n\n\n",
            "text/latex": "\\begin{enumerate*}\n\\item TRUE\n\\item TRUE\n\\item TRUE\n\\item TRUE\n\\item TRUE\n\\item TRUE\n\\item TRUE\n\\item TRUE\n\\item TRUE\n\\item TRUE\n\\item TRUE\n\\item TRUE\n\\item TRUE\n\\item TRUE\n\\item TRUE\n\\item TRUE\n\\item TRUE\n\\item TRUE\n\\item TRUE\n\\item TRUE\n\\item TRUE\n\\item TRUE\n\\item TRUE\n\\item TRUE\n\\item TRUE\n\\item TRUE\n\\item TRUE\n\\item TRUE\n\\item TRUE\n\\item TRUE\n\\item TRUE\n\\item TRUE\n\\item TRUE\n\\item TRUE\n\\item TRUE\n\\item TRUE\n\\item TRUE\n\\item TRUE\n\\item TRUE\n\\item TRUE\n\\item TRUE\n\\item TRUE\n\\item TRUE\n\\item TRUE\n\\item FALSE\n\\item TRUE\n\\item FALSE\n\\item TRUE\n\\item TRUE\n\\item TRUE\n\\item TRUE\n\\item TRUE\n\\item TRUE\n\\item TRUE\n\\item TRUE\n\\item TRUE\n\\item TRUE\n\\item TRUE\n\\item TRUE\n\\item TRUE\n\\item TRUE\n\\item TRUE\n\\item TRUE\n\\item TRUE\n\\item TRUE\n\\item TRUE\n\\item TRUE\n\\item TRUE\n\\item TRUE\n\\item TRUE\n\\item TRUE\n\\item TRUE\n\\item TRUE\n\\item TRUE\n\\item TRUE\n\\item TRUE\n\\item TRUE\n\\item TRUE\n\\item TRUE\n\\item TRUE\n\\item TRUE\n\\item TRUE\n\\item TRUE\n\\item TRUE\n\\item TRUE\n\\item TRUE\n\\item TRUE\n\\item TRUE\n\\item TRUE\n\\item FALSE\n\\item TRUE\n\\item TRUE\n\\item TRUE\n\\item TRUE\n\\item TRUE\n\\item TRUE\n\\item TRUE\n\\item TRUE\n\\item TRUE\n\\item TRUE\n\\item TRUE\n\\item TRUE\n\\item TRUE\n\\item TRUE\n\\item TRUE\n\\item TRUE\n\\item TRUE\n\\item TRUE\n\\item TRUE\n\\item TRUE\n\\item TRUE\n\\item TRUE\n\\item TRUE\n\\item TRUE\n\\item TRUE\n\\item TRUE\n\\item TRUE\n\\item TRUE\n\\item TRUE\n\\item TRUE\n\\item TRUE\n\\item TRUE\n\\item TRUE\n\\item TRUE\n\\item TRUE\n\\item TRUE\n\\item TRUE\n\\item TRUE\n\\item TRUE\n\\item TRUE\n\\item TRUE\n\\item TRUE\n\\item TRUE\n\\item TRUE\n\\item TRUE\n\\item TRUE\n\\item TRUE\n\\item TRUE\n\\item TRUE\n\\item TRUE\n\\item TRUE\n\\item TRUE\n\\item TRUE\n\\item TRUE\n\\item TRUE\n\\item TRUE\n\\item TRUE\n\\item TRUE\n\\item TRUE\n\\item TRUE\n\\item TRUE\n\\item TRUE\n\\item TRUE\n\\item TRUE\n\\item TRUE\n\\item TRUE\n\\item TRUE\n\\item TRUE\n\\item TRUE\n\\item TRUE\n\\item TRUE\n\\item TRUE\n\\item TRUE\n\\item TRUE\n\\item TRUE\n\\item TRUE\n\\item TRUE\n\\item TRUE\n\\item TRUE\n\\item TRUE\n\\item TRUE\n\\item TRUE\n\\item TRUE\n\\item TRUE\n\\item FALSE\n\\item TRUE\n\\item TRUE\n\\item FALSE\n\\item TRUE\n\\item TRUE\n\\item TRUE\n\\item TRUE\n\\item TRUE\n\\item TRUE\n\\item TRUE\n\\item TRUE\n\\item TRUE\n\\item TRUE\n\\item TRUE\n\\item TRUE\n\\item TRUE\n\\item TRUE\n\\item TRUE\n\\item FALSE\n\\item TRUE\n\\item TRUE\n\\item TRUE\n\\item TRUE\n\\item TRUE\n\\item TRUE\n\\item ⋯\n\\item TRUE\n\\item TRUE\n\\item TRUE\n\\item TRUE\n\\item TRUE\n\\item TRUE\n\\item TRUE\n\\item TRUE\n\\item TRUE\n\\item TRUE\n\\item TRUE\n\\item TRUE\n\\item TRUE\n\\item TRUE\n\\item TRUE\n\\item TRUE\n\\item TRUE\n\\item TRUE\n\\item TRUE\n\\item TRUE\n\\item TRUE\n\\item TRUE\n\\item TRUE\n\\item TRUE\n\\item TRUE\n\\item TRUE\n\\item TRUE\n\\item TRUE\n\\item TRUE\n\\item FALSE\n\\item TRUE\n\\item TRUE\n\\item TRUE\n\\item TRUE\n\\item TRUE\n\\item TRUE\n\\item TRUE\n\\item TRUE\n\\item TRUE\n\\item TRUE\n\\item TRUE\n\\item TRUE\n\\item TRUE\n\\item TRUE\n\\item TRUE\n\\item TRUE\n\\item TRUE\n\\item TRUE\n\\item FALSE\n\\item TRUE\n\\item TRUE\n\\item TRUE\n\\item TRUE\n\\item TRUE\n\\item TRUE\n\\item TRUE\n\\item TRUE\n\\item TRUE\n\\item TRUE\n\\item TRUE\n\\item TRUE\n\\item TRUE\n\\item TRUE\n\\item TRUE\n\\item FALSE\n\\item TRUE\n\\item TRUE\n\\item TRUE\n\\item TRUE\n\\item TRUE\n\\item TRUE\n\\item TRUE\n\\item TRUE\n\\item TRUE\n\\item TRUE\n\\item FALSE\n\\item TRUE\n\\item TRUE\n\\item TRUE\n\\item TRUE\n\\item TRUE\n\\item TRUE\n\\item TRUE\n\\item TRUE\n\\item TRUE\n\\item TRUE\n\\item TRUE\n\\item TRUE\n\\item TRUE\n\\item TRUE\n\\item TRUE\n\\item TRUE\n\\item TRUE\n\\item TRUE\n\\item TRUE\n\\item TRUE\n\\item TRUE\n\\item TRUE\n\\item TRUE\n\\item TRUE\n\\item TRUE\n\\item TRUE\n\\item TRUE\n\\item TRUE\n\\item TRUE\n\\item FALSE\n\\item TRUE\n\\item TRUE\n\\item TRUE\n\\item TRUE\n\\item TRUE\n\\item TRUE\n\\item TRUE\n\\item TRUE\n\\item TRUE\n\\item TRUE\n\\item TRUE\n\\item TRUE\n\\item TRUE\n\\item TRUE\n\\item TRUE\n\\item TRUE\n\\item TRUE\n\\item TRUE\n\\item TRUE\n\\item TRUE\n\\item TRUE\n\\item TRUE\n\\item TRUE\n\\item TRUE\n\\item TRUE\n\\item TRUE\n\\item TRUE\n\\item TRUE\n\\item TRUE\n\\item TRUE\n\\item TRUE\n\\item TRUE\n\\item TRUE\n\\item TRUE\n\\item TRUE\n\\item TRUE\n\\item TRUE\n\\item TRUE\n\\item TRUE\n\\item TRUE\n\\item TRUE\n\\item TRUE\n\\item TRUE\n\\item TRUE\n\\item TRUE\n\\item TRUE\n\\item TRUE\n\\item TRUE\n\\item TRUE\n\\item TRUE\n\\item TRUE\n\\item TRUE\n\\item TRUE\n\\item TRUE\n\\item TRUE\n\\item TRUE\n\\item TRUE\n\\item TRUE\n\\item TRUE\n\\item TRUE\n\\item TRUE\n\\item TRUE\n\\item TRUE\n\\item TRUE\n\\item TRUE\n\\item TRUE\n\\item TRUE\n\\item TRUE\n\\item TRUE\n\\item TRUE\n\\item TRUE\n\\item TRUE\n\\item TRUE\n\\item TRUE\n\\item TRUE\n\\item TRUE\n\\item TRUE\n\\item TRUE\n\\item TRUE\n\\item TRUE\n\\item TRUE\n\\item TRUE\n\\item TRUE\n\\item TRUE\n\\item TRUE\n\\item TRUE\n\\item TRUE\n\\item TRUE\n\\item TRUE\n\\item TRUE\n\\item TRUE\n\\item TRUE\n\\item TRUE\n\\item TRUE\n\\end{enumerate*}\n",
            "text/plain": [
              "  [1]  TRUE  TRUE  TRUE  TRUE  TRUE  TRUE  TRUE  TRUE  TRUE  TRUE  TRUE  TRUE\n",
              " [13]  TRUE  TRUE  TRUE  TRUE  TRUE  TRUE  TRUE  TRUE  TRUE  TRUE  TRUE  TRUE\n",
              " [25]  TRUE  TRUE  TRUE  TRUE  TRUE  TRUE  TRUE  TRUE  TRUE  TRUE  TRUE  TRUE\n",
              " [37]  TRUE  TRUE  TRUE  TRUE  TRUE  TRUE  TRUE  TRUE FALSE  TRUE FALSE  TRUE\n",
              " [49]  TRUE  TRUE  TRUE  TRUE  TRUE  TRUE  TRUE  TRUE  TRUE  TRUE  TRUE  TRUE\n",
              " [61]  TRUE  TRUE  TRUE  TRUE  TRUE  TRUE  TRUE  TRUE  TRUE  TRUE  TRUE  TRUE\n",
              " [73]  TRUE  TRUE  TRUE  TRUE  TRUE  TRUE  TRUE  TRUE  TRUE  TRUE  TRUE  TRUE\n",
              " [85]  TRUE  TRUE  TRUE  TRUE  TRUE FALSE  TRUE  TRUE  TRUE  TRUE  TRUE  TRUE\n",
              " [97]  TRUE  TRUE  TRUE  TRUE  TRUE  TRUE  TRUE  TRUE  TRUE  TRUE  TRUE  TRUE\n",
              "[109]  TRUE  TRUE  TRUE  TRUE  TRUE  TRUE  TRUE  TRUE  TRUE  TRUE  TRUE  TRUE\n",
              "[121]  TRUE  TRUE  TRUE  TRUE  TRUE  TRUE  TRUE  TRUE  TRUE  TRUE  TRUE  TRUE\n",
              "[133]  TRUE  TRUE  TRUE  TRUE  TRUE  TRUE  TRUE  TRUE  TRUE  TRUE  TRUE  TRUE\n",
              "[145]  TRUE  TRUE  TRUE  TRUE  TRUE  TRUE  TRUE  TRUE  TRUE  TRUE  TRUE  TRUE\n",
              "[157]  TRUE  TRUE  TRUE  TRUE  TRUE  TRUE  TRUE  TRUE  TRUE  TRUE  TRUE  TRUE\n",
              "[169]  TRUE  TRUE  TRUE  TRUE  TRUE  TRUE FALSE  TRUE  TRUE FALSE  TRUE  TRUE\n",
              "[181]  TRUE  TRUE  TRUE  TRUE  TRUE  TRUE  TRUE  TRUE  TRUE  TRUE  TRUE  TRUE\n",
              "[193]  TRUE FALSE  TRUE  TRUE  TRUE  TRUE  TRUE  TRUE  TRUE  TRUE  TRUE  TRUE\n",
              "[205]  TRUE  TRUE  TRUE  TRUE  TRUE  TRUE  TRUE  TRUE  TRUE  TRUE  TRUE  TRUE\n",
              "[217]  TRUE  TRUE  TRUE  TRUE  TRUE  TRUE  TRUE  TRUE  TRUE  TRUE  TRUE  TRUE\n",
              "[229]  TRUE  TRUE  TRUE  TRUE  TRUE  TRUE  TRUE  TRUE  TRUE  TRUE  TRUE  TRUE\n",
              "[241]  TRUE  TRUE  TRUE  TRUE  TRUE  TRUE  TRUE  TRUE  TRUE  TRUE  TRUE  TRUE\n",
              "[253]  TRUE  TRUE  TRUE  TRUE  TRUE  TRUE  TRUE  TRUE  TRUE  TRUE  TRUE  TRUE\n",
              "[265]  TRUE  TRUE  TRUE  TRUE  TRUE  TRUE  TRUE  TRUE  TRUE  TRUE  TRUE  TRUE\n",
              "[277]  TRUE  TRUE  TRUE  TRUE  TRUE  TRUE  TRUE  TRUE  TRUE  TRUE  TRUE  TRUE\n",
              "[289]  TRUE  TRUE  TRUE  TRUE  TRUE  TRUE  TRUE  TRUE  TRUE  TRUE  TRUE  TRUE\n",
              "[301]  TRUE  TRUE FALSE  TRUE  TRUE  TRUE  TRUE  TRUE  TRUE  TRUE  TRUE  TRUE\n",
              "[313]  TRUE  TRUE  TRUE  TRUE  TRUE  TRUE  TRUE  TRUE  TRUE FALSE  TRUE  TRUE\n",
              "[325]  TRUE  TRUE  TRUE  TRUE  TRUE  TRUE  TRUE  TRUE  TRUE  TRUE  TRUE  TRUE\n",
              "[337]  TRUE FALSE  TRUE  TRUE  TRUE  TRUE  TRUE  TRUE  TRUE  TRUE  TRUE  TRUE\n",
              "[349] FALSE  TRUE  TRUE  TRUE  TRUE  TRUE  TRUE  TRUE  TRUE  TRUE  TRUE  TRUE\n",
              "[361]  TRUE  TRUE  TRUE  TRUE  TRUE  TRUE  TRUE  TRUE  TRUE  TRUE  TRUE  TRUE\n",
              "[373]  TRUE  TRUE  TRUE  TRUE  TRUE  TRUE FALSE  TRUE  TRUE  TRUE  TRUE  TRUE\n",
              "[385]  TRUE  TRUE  TRUE  TRUE  TRUE  TRUE  TRUE  TRUE  TRUE  TRUE  TRUE  TRUE\n",
              "[397]  TRUE  TRUE  TRUE  TRUE  TRUE  TRUE  TRUE  TRUE  TRUE  TRUE  TRUE  TRUE\n",
              "[409]  TRUE  TRUE  TRUE  TRUE  TRUE  TRUE  TRUE  TRUE  TRUE  TRUE  TRUE  TRUE\n",
              "[421]  TRUE  TRUE  TRUE  TRUE  TRUE  TRUE  TRUE  TRUE  TRUE  TRUE  TRUE  TRUE\n",
              "[433]  TRUE  TRUE  TRUE  TRUE  TRUE  TRUE  TRUE  TRUE  TRUE  TRUE  TRUE  TRUE\n",
              "[445]  TRUE  TRUE  TRUE  TRUE  TRUE  TRUE  TRUE  TRUE  TRUE  TRUE  TRUE  TRUE\n",
              "[457]  TRUE  TRUE  TRUE  TRUE  TRUE  TRUE  TRUE  TRUE  TRUE  TRUE  TRUE  TRUE\n",
              "[469]  TRUE  TRUE  TRUE  TRUE  TRUE"
            ]
          },
          "metadata": {}
        }
      ]
    },
    {
      "cell_type": "code",
      "source": [
        "# 직업이 매니저인지 여부\n",
        "employee$age == 'manager'"
      ],
      "metadata": {
        "colab": {
          "base_uri": "https://localhost:8080/",
          "height": 190
        },
        "id": "HQylTGaR1mUz",
        "outputId": "51743029-10bd-49c7-9e07-93c93b0ccde5"
      },
      "execution_count": null,
      "outputs": [
        {
          "output_type": "display_data",
          "data": {
            "text/html": [
              "<style>\n",
              ".list-inline {list-style: none; margin:0; padding: 0}\n",
              ".list-inline>li {display: inline-block}\n",
              ".list-inline>li:not(:last-child)::after {content: \"\\00b7\"; padding: 0 .5ex}\n",
              "</style>\n",
              "<ol class=list-inline><li>FALSE</li><li>FALSE</li><li>FALSE</li><li>FALSE</li><li>FALSE</li><li>FALSE</li><li>FALSE</li><li>FALSE</li><li>FALSE</li><li>FALSE</li><li>FALSE</li><li>FALSE</li><li>FALSE</li><li>FALSE</li><li>FALSE</li><li>FALSE</li><li>FALSE</li><li>FALSE</li><li>FALSE</li><li>FALSE</li><li>FALSE</li><li>FALSE</li><li>FALSE</li><li>FALSE</li><li>FALSE</li><li>FALSE</li><li>FALSE</li><li>FALSE</li><li>FALSE</li><li>FALSE</li><li>FALSE</li><li>FALSE</li><li>FALSE</li><li>FALSE</li><li>FALSE</li><li>FALSE</li><li>FALSE</li><li>FALSE</li><li>FALSE</li><li>FALSE</li><li>FALSE</li><li>FALSE</li><li>FALSE</li><li>FALSE</li><li>FALSE</li><li>FALSE</li><li>FALSE</li><li>FALSE</li><li>FALSE</li><li>FALSE</li><li>FALSE</li><li>FALSE</li><li>FALSE</li><li>FALSE</li><li>FALSE</li><li>FALSE</li><li>FALSE</li><li>FALSE</li><li>FALSE</li><li>FALSE</li><li>FALSE</li><li>FALSE</li><li>FALSE</li><li>FALSE</li><li>FALSE</li><li>FALSE</li><li>FALSE</li><li>FALSE</li><li>FALSE</li><li>FALSE</li><li>FALSE</li><li>FALSE</li><li>FALSE</li><li>FALSE</li><li>FALSE</li><li>FALSE</li><li>FALSE</li><li>FALSE</li><li>FALSE</li><li>FALSE</li><li>FALSE</li><li>FALSE</li><li>FALSE</li><li>FALSE</li><li>FALSE</li><li>FALSE</li><li>FALSE</li><li>FALSE</li><li>FALSE</li><li>FALSE</li><li>FALSE</li><li>FALSE</li><li>FALSE</li><li>FALSE</li><li>FALSE</li><li>FALSE</li><li>FALSE</li><li>FALSE</li><li>FALSE</li><li>FALSE</li><li>FALSE</li><li>FALSE</li><li>FALSE</li><li>FALSE</li><li>FALSE</li><li>FALSE</li><li>FALSE</li><li>FALSE</li><li>FALSE</li><li>FALSE</li><li>FALSE</li><li>FALSE</li><li>FALSE</li><li>FALSE</li><li>FALSE</li><li>FALSE</li><li>FALSE</li><li>FALSE</li><li>FALSE</li><li>FALSE</li><li>FALSE</li><li>FALSE</li><li>FALSE</li><li>FALSE</li><li>FALSE</li><li>FALSE</li><li>FALSE</li><li>FALSE</li><li>FALSE</li><li>FALSE</li><li>FALSE</li><li>FALSE</li><li>FALSE</li><li>FALSE</li><li>FALSE</li><li>FALSE</li><li>FALSE</li><li>FALSE</li><li>FALSE</li><li>FALSE</li><li>FALSE</li><li>FALSE</li><li>FALSE</li><li>FALSE</li><li>FALSE</li><li>FALSE</li><li>FALSE</li><li>FALSE</li><li>FALSE</li><li>FALSE</li><li>FALSE</li><li>FALSE</li><li>FALSE</li><li>FALSE</li><li>FALSE</li><li>FALSE</li><li>FALSE</li><li>FALSE</li><li>FALSE</li><li>FALSE</li><li>FALSE</li><li>FALSE</li><li>FALSE</li><li>FALSE</li><li>FALSE</li><li>FALSE</li><li>FALSE</li><li>FALSE</li><li>FALSE</li><li>FALSE</li><li>FALSE</li><li>FALSE</li><li>FALSE</li><li>FALSE</li><li>FALSE</li><li>FALSE</li><li>FALSE</li><li>FALSE</li><li>FALSE</li><li>FALSE</li><li>FALSE</li><li>FALSE</li><li>FALSE</li><li>FALSE</li><li>FALSE</li><li>FALSE</li><li>FALSE</li><li>FALSE</li><li>FALSE</li><li>FALSE</li><li>FALSE</li><li>FALSE</li><li>FALSE</li><li>FALSE</li><li>FALSE</li><li>FALSE</li><li>FALSE</li><li>FALSE</li><li>FALSE</li><li>FALSE</li><li>⋯</li><li>FALSE</li><li>FALSE</li><li>FALSE</li><li>FALSE</li><li>FALSE</li><li>FALSE</li><li>FALSE</li><li>FALSE</li><li>FALSE</li><li>FALSE</li><li>FALSE</li><li>FALSE</li><li>FALSE</li><li>FALSE</li><li>FALSE</li><li>FALSE</li><li>FALSE</li><li>FALSE</li><li>FALSE</li><li>FALSE</li><li>FALSE</li><li>FALSE</li><li>FALSE</li><li>FALSE</li><li>FALSE</li><li>FALSE</li><li>FALSE</li><li>FALSE</li><li>FALSE</li><li>FALSE</li><li>FALSE</li><li>FALSE</li><li>FALSE</li><li>FALSE</li><li>FALSE</li><li>FALSE</li><li>FALSE</li><li>FALSE</li><li>FALSE</li><li>FALSE</li><li>FALSE</li><li>FALSE</li><li>FALSE</li><li>FALSE</li><li>FALSE</li><li>FALSE</li><li>FALSE</li><li>FALSE</li><li>FALSE</li><li>FALSE</li><li>FALSE</li><li>FALSE</li><li>FALSE</li><li>FALSE</li><li>FALSE</li><li>FALSE</li><li>FALSE</li><li>FALSE</li><li>FALSE</li><li>FALSE</li><li>FALSE</li><li>FALSE</li><li>FALSE</li><li>FALSE</li><li>FALSE</li><li>FALSE</li><li>FALSE</li><li>FALSE</li><li>FALSE</li><li>FALSE</li><li>FALSE</li><li>FALSE</li><li>FALSE</li><li>FALSE</li><li>FALSE</li><li>FALSE</li><li>FALSE</li><li>FALSE</li><li>FALSE</li><li>FALSE</li><li>FALSE</li><li>FALSE</li><li>FALSE</li><li>FALSE</li><li>FALSE</li><li>FALSE</li><li>FALSE</li><li>FALSE</li><li>FALSE</li><li>FALSE</li><li>FALSE</li><li>FALSE</li><li>FALSE</li><li>FALSE</li><li>FALSE</li><li>FALSE</li><li>FALSE</li><li>FALSE</li><li>FALSE</li><li>FALSE</li><li>FALSE</li><li>FALSE</li><li>FALSE</li><li>FALSE</li><li>FALSE</li><li>FALSE</li><li>FALSE</li><li>FALSE</li><li>FALSE</li><li>FALSE</li><li>FALSE</li><li>FALSE</li><li>FALSE</li><li>FALSE</li><li>FALSE</li><li>FALSE</li><li>FALSE</li><li>FALSE</li><li>FALSE</li><li>FALSE</li><li>FALSE</li><li>FALSE</li><li>FALSE</li><li>FALSE</li><li>FALSE</li><li>FALSE</li><li>FALSE</li><li>FALSE</li><li>FALSE</li><li>FALSE</li><li>FALSE</li><li>FALSE</li><li>FALSE</li><li>FALSE</li><li>FALSE</li><li>FALSE</li><li>FALSE</li><li>FALSE</li><li>FALSE</li><li>FALSE</li><li>FALSE</li><li>FALSE</li><li>FALSE</li><li>FALSE</li><li>FALSE</li><li>FALSE</li><li>FALSE</li><li>FALSE</li><li>FALSE</li><li>FALSE</li><li>FALSE</li><li>FALSE</li><li>FALSE</li><li>FALSE</li><li>FALSE</li><li>FALSE</li><li>FALSE</li><li>FALSE</li><li>FALSE</li><li>FALSE</li><li>FALSE</li><li>FALSE</li><li>FALSE</li><li>FALSE</li><li>FALSE</li><li>FALSE</li><li>FALSE</li><li>FALSE</li><li>FALSE</li><li>FALSE</li><li>FALSE</li><li>FALSE</li><li>FALSE</li><li>FALSE</li><li>FALSE</li><li>FALSE</li><li>FALSE</li><li>FALSE</li><li>FALSE</li><li>FALSE</li><li>FALSE</li><li>FALSE</li><li>FALSE</li><li>FALSE</li><li>FALSE</li><li>FALSE</li><li>FALSE</li><li>FALSE</li><li>FALSE</li><li>FALSE</li><li>FALSE</li><li>FALSE</li><li>FALSE</li><li>FALSE</li><li>FALSE</li><li>FALSE</li><li>FALSE</li><li>FALSE</li><li>FALSE</li><li>FALSE</li></ol>\n"
            ],
            "text/markdown": "1. FALSE\n2. FALSE\n3. FALSE\n4. FALSE\n5. FALSE\n6. FALSE\n7. FALSE\n8. FALSE\n9. FALSE\n10. FALSE\n11. FALSE\n12. FALSE\n13. FALSE\n14. FALSE\n15. FALSE\n16. FALSE\n17. FALSE\n18. FALSE\n19. FALSE\n20. FALSE\n21. FALSE\n22. FALSE\n23. FALSE\n24. FALSE\n25. FALSE\n26. FALSE\n27. FALSE\n28. FALSE\n29. FALSE\n30. FALSE\n31. FALSE\n32. FALSE\n33. FALSE\n34. FALSE\n35. FALSE\n36. FALSE\n37. FALSE\n38. FALSE\n39. FALSE\n40. FALSE\n41. FALSE\n42. FALSE\n43. FALSE\n44. FALSE\n45. FALSE\n46. FALSE\n47. FALSE\n48. FALSE\n49. FALSE\n50. FALSE\n51. FALSE\n52. FALSE\n53. FALSE\n54. FALSE\n55. FALSE\n56. FALSE\n57. FALSE\n58. FALSE\n59. FALSE\n60. FALSE\n61. FALSE\n62. FALSE\n63. FALSE\n64. FALSE\n65. FALSE\n66. FALSE\n67. FALSE\n68. FALSE\n69. FALSE\n70. FALSE\n71. FALSE\n72. FALSE\n73. FALSE\n74. FALSE\n75. FALSE\n76. FALSE\n77. FALSE\n78. FALSE\n79. FALSE\n80. FALSE\n81. FALSE\n82. FALSE\n83. FALSE\n84. FALSE\n85. FALSE\n86. FALSE\n87. FALSE\n88. FALSE\n89. FALSE\n90. FALSE\n91. FALSE\n92. FALSE\n93. FALSE\n94. FALSE\n95. FALSE\n96. FALSE\n97. FALSE\n98. FALSE\n99. FALSE\n100. FALSE\n101. FALSE\n102. FALSE\n103. FALSE\n104. FALSE\n105. FALSE\n106. FALSE\n107. FALSE\n108. FALSE\n109. FALSE\n110. FALSE\n111. FALSE\n112. FALSE\n113. FALSE\n114. FALSE\n115. FALSE\n116. FALSE\n117. FALSE\n118. FALSE\n119. FALSE\n120. FALSE\n121. FALSE\n122. FALSE\n123. FALSE\n124. FALSE\n125. FALSE\n126. FALSE\n127. FALSE\n128. FALSE\n129. FALSE\n130. FALSE\n131. FALSE\n132. FALSE\n133. FALSE\n134. FALSE\n135. FALSE\n136. FALSE\n137. FALSE\n138. FALSE\n139. FALSE\n140. FALSE\n141. FALSE\n142. FALSE\n143. FALSE\n144. FALSE\n145. FALSE\n146. FALSE\n147. FALSE\n148. FALSE\n149. FALSE\n150. FALSE\n151. FALSE\n152. FALSE\n153. FALSE\n154. FALSE\n155. FALSE\n156. FALSE\n157. FALSE\n158. FALSE\n159. FALSE\n160. FALSE\n161. FALSE\n162. FALSE\n163. FALSE\n164. FALSE\n165. FALSE\n166. FALSE\n167. FALSE\n168. FALSE\n169. FALSE\n170. FALSE\n171. FALSE\n172. FALSE\n173. FALSE\n174. FALSE\n175. FALSE\n176. FALSE\n177. FALSE\n178. FALSE\n179. FALSE\n180. FALSE\n181. FALSE\n182. FALSE\n183. FALSE\n184. FALSE\n185. FALSE\n186. FALSE\n187. FALSE\n188. FALSE\n189. FALSE\n190. FALSE\n191. FALSE\n192. FALSE\n193. FALSE\n194. FALSE\n195. FALSE\n196. FALSE\n197. FALSE\n198. FALSE\n199. FALSE\n200. FALSE\n201. ⋯\n202. FALSE\n203. FALSE\n204. FALSE\n205. FALSE\n206. FALSE\n207. FALSE\n208. FALSE\n209. FALSE\n210. FALSE\n211. FALSE\n212. FALSE\n213. FALSE\n214. FALSE\n215. FALSE\n216. FALSE\n217. FALSE\n218. FALSE\n219. FALSE\n220. FALSE\n221. FALSE\n222. FALSE\n223. FALSE\n224. FALSE\n225. FALSE\n226. FALSE\n227. FALSE\n228. FALSE\n229. FALSE\n230. FALSE\n231. FALSE\n232. FALSE\n233. FALSE\n234. FALSE\n235. FALSE\n236. FALSE\n237. FALSE\n238. FALSE\n239. FALSE\n240. FALSE\n241. FALSE\n242. FALSE\n243. FALSE\n244. FALSE\n245. FALSE\n246. FALSE\n247. FALSE\n248. FALSE\n249. FALSE\n250. FALSE\n251. FALSE\n252. FALSE\n253. FALSE\n254. FALSE\n255. FALSE\n256. FALSE\n257. FALSE\n258. FALSE\n259. FALSE\n260. FALSE\n261. FALSE\n262. FALSE\n263. FALSE\n264. FALSE\n265. FALSE\n266. FALSE\n267. FALSE\n268. FALSE\n269. FALSE\n270. FALSE\n271. FALSE\n272. FALSE\n273. FALSE\n274. FALSE\n275. FALSE\n276. FALSE\n277. FALSE\n278. FALSE\n279. FALSE\n280. FALSE\n281. FALSE\n282. FALSE\n283. FALSE\n284. FALSE\n285. FALSE\n286. FALSE\n287. FALSE\n288. FALSE\n289. FALSE\n290. FALSE\n291. FALSE\n292. FALSE\n293. FALSE\n294. FALSE\n295. FALSE\n296. FALSE\n297. FALSE\n298. FALSE\n299. FALSE\n300. FALSE\n301. FALSE\n302. FALSE\n303. FALSE\n304. FALSE\n305. FALSE\n306. FALSE\n307. FALSE\n308. FALSE\n309. FALSE\n310. FALSE\n311. FALSE\n312. FALSE\n313. FALSE\n314. FALSE\n315. FALSE\n316. FALSE\n317. FALSE\n318. FALSE\n319. FALSE\n320. FALSE\n321. FALSE\n322. FALSE\n323. FALSE\n324. FALSE\n325. FALSE\n326. FALSE\n327. FALSE\n328. FALSE\n329. FALSE\n330. FALSE\n331. FALSE\n332. FALSE\n333. FALSE\n334. FALSE\n335. FALSE\n336. FALSE\n337. FALSE\n338. FALSE\n339. FALSE\n340. FALSE\n341. FALSE\n342. FALSE\n343. FALSE\n344. FALSE\n345. FALSE\n346. FALSE\n347. FALSE\n348. FALSE\n349. FALSE\n350. FALSE\n351. FALSE\n352. FALSE\n353. FALSE\n354. FALSE\n355. FALSE\n356. FALSE\n357. FALSE\n358. FALSE\n359. FALSE\n360. FALSE\n361. FALSE\n362. FALSE\n363. FALSE\n364. FALSE\n365. FALSE\n366. FALSE\n367. FALSE\n368. FALSE\n369. FALSE\n370. FALSE\n371. FALSE\n372. FALSE\n373. FALSE\n374. FALSE\n375. FALSE\n376. FALSE\n377. FALSE\n378. FALSE\n379. FALSE\n380. FALSE\n381. FALSE\n382. FALSE\n383. FALSE\n384. FALSE\n385. FALSE\n386. FALSE\n387. FALSE\n388. FALSE\n389. FALSE\n390. FALSE\n391. FALSE\n392. FALSE\n393. FALSE\n394. FALSE\n395. FALSE\n396. FALSE\n397. FALSE\n398. FALSE\n399. FALSE\n400. FALSE\n401. FALSE\n\n\n",
            "text/latex": "\\begin{enumerate*}\n\\item FALSE\n\\item FALSE\n\\item FALSE\n\\item FALSE\n\\item FALSE\n\\item FALSE\n\\item FALSE\n\\item FALSE\n\\item FALSE\n\\item FALSE\n\\item FALSE\n\\item FALSE\n\\item FALSE\n\\item FALSE\n\\item FALSE\n\\item FALSE\n\\item FALSE\n\\item FALSE\n\\item FALSE\n\\item FALSE\n\\item FALSE\n\\item FALSE\n\\item FALSE\n\\item FALSE\n\\item FALSE\n\\item FALSE\n\\item FALSE\n\\item FALSE\n\\item FALSE\n\\item FALSE\n\\item FALSE\n\\item FALSE\n\\item FALSE\n\\item FALSE\n\\item FALSE\n\\item FALSE\n\\item FALSE\n\\item FALSE\n\\item FALSE\n\\item FALSE\n\\item FALSE\n\\item FALSE\n\\item FALSE\n\\item FALSE\n\\item FALSE\n\\item FALSE\n\\item FALSE\n\\item FALSE\n\\item FALSE\n\\item FALSE\n\\item FALSE\n\\item FALSE\n\\item FALSE\n\\item FALSE\n\\item FALSE\n\\item FALSE\n\\item FALSE\n\\item FALSE\n\\item FALSE\n\\item FALSE\n\\item FALSE\n\\item FALSE\n\\item FALSE\n\\item FALSE\n\\item FALSE\n\\item FALSE\n\\item FALSE\n\\item FALSE\n\\item FALSE\n\\item FALSE\n\\item FALSE\n\\item FALSE\n\\item FALSE\n\\item FALSE\n\\item FALSE\n\\item FALSE\n\\item FALSE\n\\item FALSE\n\\item FALSE\n\\item FALSE\n\\item FALSE\n\\item FALSE\n\\item FALSE\n\\item FALSE\n\\item FALSE\n\\item FALSE\n\\item FALSE\n\\item FALSE\n\\item FALSE\n\\item FALSE\n\\item FALSE\n\\item FALSE\n\\item FALSE\n\\item FALSE\n\\item FALSE\n\\item FALSE\n\\item FALSE\n\\item FALSE\n\\item FALSE\n\\item FALSE\n\\item FALSE\n\\item FALSE\n\\item FALSE\n\\item FALSE\n\\item FALSE\n\\item FALSE\n\\item FALSE\n\\item FALSE\n\\item FALSE\n\\item FALSE\n\\item FALSE\n\\item FALSE\n\\item FALSE\n\\item FALSE\n\\item FALSE\n\\item FALSE\n\\item FALSE\n\\item FALSE\n\\item FALSE\n\\item FALSE\n\\item FALSE\n\\item FALSE\n\\item FALSE\n\\item FALSE\n\\item FALSE\n\\item FALSE\n\\item FALSE\n\\item FALSE\n\\item FALSE\n\\item FALSE\n\\item FALSE\n\\item FALSE\n\\item FALSE\n\\item FALSE\n\\item FALSE\n\\item FALSE\n\\item FALSE\n\\item FALSE\n\\item FALSE\n\\item FALSE\n\\item FALSE\n\\item FALSE\n\\item FALSE\n\\item FALSE\n\\item FALSE\n\\item FALSE\n\\item FALSE\n\\item FALSE\n\\item FALSE\n\\item FALSE\n\\item FALSE\n\\item FALSE\n\\item FALSE\n\\item FALSE\n\\item FALSE\n\\item FALSE\n\\item FALSE\n\\item FALSE\n\\item FALSE\n\\item FALSE\n\\item FALSE\n\\item FALSE\n\\item FALSE\n\\item FALSE\n\\item FALSE\n\\item FALSE\n\\item FALSE\n\\item FALSE\n\\item FALSE\n\\item FALSE\n\\item FALSE\n\\item FALSE\n\\item FALSE\n\\item FALSE\n\\item FALSE\n\\item FALSE\n\\item FALSE\n\\item FALSE\n\\item FALSE\n\\item FALSE\n\\item FALSE\n\\item FALSE\n\\item FALSE\n\\item FALSE\n\\item FALSE\n\\item FALSE\n\\item FALSE\n\\item FALSE\n\\item FALSE\n\\item FALSE\n\\item FALSE\n\\item FALSE\n\\item FALSE\n\\item FALSE\n\\item FALSE\n\\item FALSE\n\\item FALSE\n\\item FALSE\n\\item FALSE\n\\item FALSE\n\\item ⋯\n\\item FALSE\n\\item FALSE\n\\item FALSE\n\\item FALSE\n\\item FALSE\n\\item FALSE\n\\item FALSE\n\\item FALSE\n\\item FALSE\n\\item FALSE\n\\item FALSE\n\\item FALSE\n\\item FALSE\n\\item FALSE\n\\item FALSE\n\\item FALSE\n\\item FALSE\n\\item FALSE\n\\item FALSE\n\\item FALSE\n\\item FALSE\n\\item FALSE\n\\item FALSE\n\\item FALSE\n\\item FALSE\n\\item FALSE\n\\item FALSE\n\\item FALSE\n\\item FALSE\n\\item FALSE\n\\item FALSE\n\\item FALSE\n\\item FALSE\n\\item FALSE\n\\item FALSE\n\\item FALSE\n\\item FALSE\n\\item FALSE\n\\item FALSE\n\\item FALSE\n\\item FALSE\n\\item FALSE\n\\item FALSE\n\\item FALSE\n\\item FALSE\n\\item FALSE\n\\item FALSE\n\\item FALSE\n\\item FALSE\n\\item FALSE\n\\item FALSE\n\\item FALSE\n\\item FALSE\n\\item FALSE\n\\item FALSE\n\\item FALSE\n\\item FALSE\n\\item FALSE\n\\item FALSE\n\\item FALSE\n\\item FALSE\n\\item FALSE\n\\item FALSE\n\\item FALSE\n\\item FALSE\n\\item FALSE\n\\item FALSE\n\\item FALSE\n\\item FALSE\n\\item FALSE\n\\item FALSE\n\\item FALSE\n\\item FALSE\n\\item FALSE\n\\item FALSE\n\\item FALSE\n\\item FALSE\n\\item FALSE\n\\item FALSE\n\\item FALSE\n\\item FALSE\n\\item FALSE\n\\item FALSE\n\\item FALSE\n\\item FALSE\n\\item FALSE\n\\item FALSE\n\\item FALSE\n\\item FALSE\n\\item FALSE\n\\item FALSE\n\\item FALSE\n\\item FALSE\n\\item FALSE\n\\item FALSE\n\\item FALSE\n\\item FALSE\n\\item FALSE\n\\item FALSE\n\\item FALSE\n\\item FALSE\n\\item FALSE\n\\item FALSE\n\\item FALSE\n\\item FALSE\n\\item FALSE\n\\item FALSE\n\\item FALSE\n\\item FALSE\n\\item FALSE\n\\item FALSE\n\\item FALSE\n\\item FALSE\n\\item FALSE\n\\item FALSE\n\\item FALSE\n\\item FALSE\n\\item FALSE\n\\item FALSE\n\\item FALSE\n\\item FALSE\n\\item FALSE\n\\item FALSE\n\\item FALSE\n\\item FALSE\n\\item FALSE\n\\item FALSE\n\\item FALSE\n\\item FALSE\n\\item FALSE\n\\item FALSE\n\\item FALSE\n\\item FALSE\n\\item FALSE\n\\item FALSE\n\\item FALSE\n\\item FALSE\n\\item FALSE\n\\item FALSE\n\\item FALSE\n\\item FALSE\n\\item FALSE\n\\item FALSE\n\\item FALSE\n\\item FALSE\n\\item FALSE\n\\item FALSE\n\\item FALSE\n\\item FALSE\n\\item FALSE\n\\item FALSE\n\\item FALSE\n\\item FALSE\n\\item FALSE\n\\item FALSE\n\\item FALSE\n\\item FALSE\n\\item FALSE\n\\item FALSE\n\\item FALSE\n\\item FALSE\n\\item FALSE\n\\item FALSE\n\\item FALSE\n\\item FALSE\n\\item FALSE\n\\item FALSE\n\\item FALSE\n\\item FALSE\n\\item FALSE\n\\item FALSE\n\\item FALSE\n\\item FALSE\n\\item FALSE\n\\item FALSE\n\\item FALSE\n\\item FALSE\n\\item FALSE\n\\item FALSE\n\\item FALSE\n\\item FALSE\n\\item FALSE\n\\item FALSE\n\\item FALSE\n\\item FALSE\n\\item FALSE\n\\item FALSE\n\\item FALSE\n\\item FALSE\n\\item FALSE\n\\item FALSE\n\\item FALSE\n\\item FALSE\n\\item FALSE\n\\item FALSE\n\\item FALSE\n\\item FALSE\n\\item FALSE\n\\item FALSE\n\\item FALSE\n\\end{enumerate*}\n",
            "text/plain": [
              "  [1] FALSE FALSE FALSE FALSE FALSE FALSE FALSE FALSE FALSE FALSE FALSE FALSE\n",
              " [13] FALSE FALSE FALSE FALSE FALSE FALSE FALSE FALSE FALSE FALSE FALSE FALSE\n",
              " [25] FALSE FALSE FALSE FALSE FALSE FALSE FALSE FALSE FALSE FALSE FALSE FALSE\n",
              " [37] FALSE FALSE FALSE FALSE FALSE FALSE FALSE FALSE FALSE FALSE FALSE FALSE\n",
              " [49] FALSE FALSE FALSE FALSE FALSE FALSE FALSE FALSE FALSE FALSE FALSE FALSE\n",
              " [61] FALSE FALSE FALSE FALSE FALSE FALSE FALSE FALSE FALSE FALSE FALSE FALSE\n",
              " [73] FALSE FALSE FALSE FALSE FALSE FALSE FALSE FALSE FALSE FALSE FALSE FALSE\n",
              " [85] FALSE FALSE FALSE FALSE FALSE FALSE FALSE FALSE FALSE FALSE FALSE FALSE\n",
              " [97] FALSE FALSE FALSE FALSE FALSE FALSE FALSE FALSE FALSE FALSE FALSE FALSE\n",
              "[109] FALSE FALSE FALSE FALSE FALSE FALSE FALSE FALSE FALSE FALSE FALSE FALSE\n",
              "[121] FALSE FALSE FALSE FALSE FALSE FALSE FALSE FALSE FALSE FALSE FALSE FALSE\n",
              "[133] FALSE FALSE FALSE FALSE FALSE FALSE FALSE FALSE FALSE FALSE FALSE FALSE\n",
              "[145] FALSE FALSE FALSE FALSE FALSE FALSE FALSE FALSE FALSE FALSE FALSE FALSE\n",
              "[157] FALSE FALSE FALSE FALSE FALSE FALSE FALSE FALSE FALSE FALSE FALSE FALSE\n",
              "[169] FALSE FALSE FALSE FALSE FALSE FALSE FALSE FALSE FALSE FALSE FALSE FALSE\n",
              "[181] FALSE FALSE FALSE FALSE FALSE FALSE FALSE FALSE FALSE FALSE FALSE FALSE\n",
              "[193] FALSE FALSE FALSE FALSE FALSE FALSE FALSE FALSE FALSE FALSE FALSE FALSE\n",
              "[205] FALSE FALSE FALSE FALSE FALSE FALSE FALSE FALSE FALSE FALSE FALSE FALSE\n",
              "[217] FALSE FALSE FALSE FALSE FALSE FALSE FALSE FALSE FALSE FALSE FALSE FALSE\n",
              "[229] FALSE FALSE FALSE FALSE FALSE FALSE FALSE FALSE FALSE FALSE FALSE FALSE\n",
              "[241] FALSE FALSE FALSE FALSE FALSE FALSE FALSE FALSE FALSE FALSE FALSE FALSE\n",
              "[253] FALSE FALSE FALSE FALSE FALSE FALSE FALSE FALSE FALSE FALSE FALSE FALSE\n",
              "[265] FALSE FALSE FALSE FALSE FALSE FALSE FALSE FALSE FALSE FALSE FALSE FALSE\n",
              "[277] FALSE FALSE FALSE FALSE FALSE FALSE FALSE FALSE FALSE FALSE FALSE FALSE\n",
              "[289] FALSE FALSE FALSE FALSE FALSE FALSE FALSE FALSE FALSE FALSE FALSE FALSE\n",
              "[301] FALSE FALSE FALSE FALSE FALSE FALSE FALSE FALSE FALSE FALSE FALSE FALSE\n",
              "[313] FALSE FALSE FALSE FALSE FALSE FALSE FALSE FALSE FALSE FALSE FALSE FALSE\n",
              "[325] FALSE FALSE FALSE FALSE FALSE FALSE FALSE FALSE FALSE FALSE FALSE FALSE\n",
              "[337] FALSE FALSE FALSE FALSE FALSE FALSE FALSE FALSE FALSE FALSE FALSE FALSE\n",
              "[349] FALSE FALSE FALSE FALSE FALSE FALSE FALSE FALSE FALSE FALSE FALSE FALSE\n",
              "[361] FALSE FALSE FALSE FALSE FALSE FALSE FALSE FALSE FALSE FALSE FALSE FALSE\n",
              "[373] FALSE FALSE FALSE FALSE FALSE FALSE FALSE FALSE FALSE FALSE FALSE FALSE\n",
              "[385] FALSE FALSE FALSE FALSE FALSE FALSE FALSE FALSE FALSE FALSE FALSE FALSE\n",
              "[397] FALSE FALSE FALSE FALSE FALSE FALSE FALSE FALSE FALSE FALSE FALSE FALSE\n",
              "[409] FALSE FALSE FALSE FALSE FALSE FALSE FALSE FALSE FALSE FALSE FALSE FALSE\n",
              "[421] FALSE FALSE FALSE FALSE FALSE FALSE FALSE FALSE FALSE FALSE FALSE FALSE\n",
              "[433] FALSE FALSE FALSE FALSE FALSE FALSE FALSE FALSE FALSE FALSE FALSE FALSE\n",
              "[445] FALSE FALSE FALSE FALSE FALSE FALSE FALSE FALSE FALSE FALSE FALSE FALSE\n",
              "[457] FALSE FALSE FALSE FALSE FALSE FALSE FALSE FALSE FALSE FALSE FALSE FALSE\n",
              "[469] FALSE FALSE FALSE FALSE FALSE"
            ]
          },
          "metadata": {}
        }
      ]
    },
    {
      "cell_type": "markdown",
      "source": [
        "# 36Page 예제 (데이터 추출)"
      ],
      "metadata": {
        "id": "7GeUDHsFzwT9"
      }
    },
    {
      "cell_type": "code",
      "source": [
        "# 36Page 예제\n",
        "# 나이가 50살 이상인 직원 추출\n",
        "employee[employee$age >= 50 ,]"
      ],
      "metadata": {
        "id": "cbUtD2IS6Kz1"
      },
      "execution_count": null,
      "outputs": []
    },
    {
      "cell_type": "markdown",
      "source": [
        "# 37Page 실습 문제"
      ],
      "metadata": {
        "id": "aZuxY_zxz1Al"
      }
    },
    {
      "cell_type": "code",
      "source": [
        "########################### 37page 실습 문제 #############################\n",
        "# 33Page Q1 : employee 중 임금이 30000달러 이상인 사람들의 데이터 추출\n",
        "# hint : employee[employee$salary ? ,]\n",
        "employee[?,]"
      ],
      "metadata": {
        "colab": {
          "base_uri": "https://localhost:8080/",
          "height": 286
        },
        "id": "NCka_-TF7YFY",
        "outputId": "96567794-5536-42ed-ec7b-c57148e64758"
      },
      "execution_count": null,
      "outputs": [
        {
          "output_type": "display_data",
          "data": {
            "text/html": [
              "<table class=\"dataframe\">\n",
              "<caption>A data.frame: 6 × 9</caption>\n",
              "<thead>\n",
              "\t<tr><th></th><th scope=col>salary</th><th scope=col>age</th><th scope=col>edu</th><th scope=col>startsal</th><th scope=col>jobtime</th><th scope=col>prevexp</th><th scope=col>minority</th><th scope=col>gender</th><th scope=col>jobcat</th></tr>\n",
              "\t<tr><th></th><th scope=col>&lt;int&gt;</th><th scope=col>&lt;int&gt;</th><th scope=col>&lt;int&gt;</th><th scope=col>&lt;int&gt;</th><th scope=col>&lt;int&gt;</th><th scope=col>&lt;int&gt;</th><th scope=col>&lt;fct&gt;</th><th scope=col>&lt;fct&gt;</th><th scope=col>&lt;fct&gt;</th></tr>\n",
              "</thead>\n",
              "<tbody>\n",
              "\t<tr><th scope=row>1</th><td>57000</td><td>36</td><td>15</td><td>27000</td><td>98</td><td>144</td><td>no_min</td><td>m</td><td>manager </td></tr>\n",
              "\t<tr><th scope=row>2</th><td>40200</td><td>30</td><td>16</td><td>18750</td><td>98</td><td> 36</td><td>no_min</td><td>m</td><td>Clerical</td></tr>\n",
              "\t<tr><th scope=row>5</th><td>45000</td><td>33</td><td>15</td><td>21000</td><td>98</td><td>138</td><td>no_min</td><td>m</td><td>Clerical</td></tr>\n",
              "\t<tr><th scope=row>6</th><td>32100</td><td>30</td><td>15</td><td>13500</td><td>98</td><td> 67</td><td>no_min</td><td>m</td><td>Clerical</td></tr>\n",
              "\t<tr><th scope=row>7</th><td>36000</td><td>32</td><td>15</td><td>18750</td><td>98</td><td>114</td><td>no_min</td><td>m</td><td>Clerical</td></tr>\n",
              "\t<tr><th scope=row>11</th><td>30300</td><td>38</td><td>16</td><td>16500</td><td>98</td><td>143</td><td>no_min</td><td>f</td><td>Clerical</td></tr>\n",
              "</tbody>\n",
              "</table>\n"
            ],
            "text/markdown": "\nA data.frame: 6 × 9\n\n| <!--/--> | salary &lt;int&gt; | age &lt;int&gt; | edu &lt;int&gt; | startsal &lt;int&gt; | jobtime &lt;int&gt; | prevexp &lt;int&gt; | minority &lt;fct&gt; | gender &lt;fct&gt; | jobcat &lt;fct&gt; |\n|---|---|---|---|---|---|---|---|---|---|\n| 1 | 57000 | 36 | 15 | 27000 | 98 | 144 | no_min | m | manager  |\n| 2 | 40200 | 30 | 16 | 18750 | 98 |  36 | no_min | m | Clerical |\n| 5 | 45000 | 33 | 15 | 21000 | 98 | 138 | no_min | m | Clerical |\n| 6 | 32100 | 30 | 15 | 13500 | 98 |  67 | no_min | m | Clerical |\n| 7 | 36000 | 32 | 15 | 18750 | 98 | 114 | no_min | m | Clerical |\n| 11 | 30300 | 38 | 16 | 16500 | 98 | 143 | no_min | f | Clerical |\n\n",
            "text/latex": "A data.frame: 6 × 9\n\\begin{tabular}{r|lllllllll}\n  & salary & age & edu & startsal & jobtime & prevexp & minority & gender & jobcat\\\\\n  & <int> & <int> & <int> & <int> & <int> & <int> & <fct> & <fct> & <fct>\\\\\n\\hline\n\t1 & 57000 & 36 & 15 & 27000 & 98 & 144 & no\\_min & m & manager \\\\\n\t2 & 40200 & 30 & 16 & 18750 & 98 &  36 & no\\_min & m & Clerical\\\\\n\t5 & 45000 & 33 & 15 & 21000 & 98 & 138 & no\\_min & m & Clerical\\\\\n\t6 & 32100 & 30 & 15 & 13500 & 98 &  67 & no\\_min & m & Clerical\\\\\n\t7 & 36000 & 32 & 15 & 18750 & 98 & 114 & no\\_min & m & Clerical\\\\\n\t11 & 30300 & 38 & 16 & 16500 & 98 & 143 & no\\_min & f & Clerical\\\\\n\\end{tabular}\n",
            "text/plain": [
              "   salary age edu startsal jobtime prevexp minority gender jobcat  \n",
              "1  57000  36  15  27000    98      144     no_min   m      manager \n",
              "2  40200  30  16  18750    98       36     no_min   m      Clerical\n",
              "5  45000  33  15  21000    98      138     no_min   m      Clerical\n",
              "6  32100  30  15  13500    98       67     no_min   m      Clerical\n",
              "7  36000  32  15  18750    98      114     no_min   m      Clerical\n",
              "11 30300  38  16  16500    98      143     no_min   f      Clerical"
            ]
          },
          "metadata": {}
        }
      ]
    },
    {
      "cell_type": "code",
      "source": [
        "# 33Page Q2 : employee 중 성별이 '여성'인 사람들의 데이터 추출\n",
        "# hint : employee[employee$gender ? ,]\n",
        "employee[?,]"
      ],
      "metadata": {
        "id": "GBOBczO0KXzO"
      },
      "execution_count": null,
      "outputs": []
    },
    {
      "cell_type": "code",
      "source": [
        "# 33Page Q3 : employee 중 임금이 30000달러 이상의 성별이 '여성'인 사람들의 데이터 추출\n",
        "# hint : employee[employee$salary ? & employee$gender ? ,]\n",
        "employee[?,]"
      ],
      "metadata": {
        "id": "f4JKXF4y2cxn"
      },
      "execution_count": null,
      "outputs": []
    },
    {
      "cell_type": "code",
      "source": [
        "# 33Page Q4 : employee 중 임금이 30000달러 이상이거나 성별이 '남성'인 사람들의 데이터 추출\n",
        "# hint : employee[employee$salary ? | employee$gender ? ,]\n",
        "employee[?,]"
      ],
      "metadata": {
        "id": "PzqDWvXNMKaH"
      },
      "execution_count": null,
      "outputs": []
    },
    {
      "cell_type": "markdown",
      "source": [
        "# 37Page 실습 문제 정답"
      ],
      "metadata": {
        "id": "8co8WPlw0s0H"
      }
    },
    {
      "cell_type": "code",
      "source": [
        "########################### 33page 실습 정답 #############################\n",
        "# 33Page A1 : employee 중 임금이 30000달러 이상인 사람들의 데이터 추출\n",
        "# hint : employee[employee$salary ? ,]\n",
        "employee[employee$salary >= 30000,]"
      ],
      "metadata": {
        "id": "b36NYxfL29I4"
      },
      "execution_count": null,
      "outputs": []
    },
    {
      "cell_type": "code",
      "source": [
        "# 33Page A2 : employee 중 성별이 '여성'인 사람들의 데이터 추출\n",
        "# hint : employee[employee$gender ? ,]\n",
        "employee[employee$gender == 'f',]"
      ],
      "metadata": {
        "id": "oCSGkuJE3Ax1"
      },
      "execution_count": null,
      "outputs": []
    },
    {
      "cell_type": "code",
      "source": [
        "# 33Page A3 : employee 중 임금이 30000달러 이상의 성별이 '여성'인 사람들의 데이터 추출\n",
        "# hint : employee[employee$salary ? & employee$gender ? ,]\n",
        "employee[employee$salary >= 30000 & employee$gender == 'f',]"
      ],
      "metadata": {
        "id": "mUlJ3BtK3Hwa"
      },
      "execution_count": null,
      "outputs": []
    },
    {
      "cell_type": "code",
      "source": [
        "# 33Page A4 : employee 중 임금이 30000달러 이상이거나 성별이 '남성'인 사람들의 데이터 추출\n",
        "# hint : employee[employee$salary ? | employee$gender ? ,]\n",
        "employee[employee$salary >= 30000 | employee$gender == 'm' ,]"
      ],
      "metadata": {
        "id": "CdKLhhPE3MlJ"
      },
      "execution_count": null,
      "outputs": []
    },
    {
      "cell_type": "markdown",
      "source": [
        "# 41Page 예제 (새로운 컬럼 만들기)"
      ],
      "metadata": {
        "id": "4MTyrd8q1Bd4"
      }
    },
    {
      "cell_type": "code",
      "source": [
        "# 31Page 예제\n",
        "# 새로운 컬럼 만들기\n",
        "# data.frame$새로운변수\n",
        "# data.frame['새로운변수']\n",
        "\n",
        "# 예제\n",
        "# Jobtime이 월로 되어있어서 보기가 어렵다\n",
        "# Jobtime을 년도로 변경하자\n",
        "employee$jobtime/12"
      ],
      "metadata": {
        "colab": {
          "base_uri": "https://localhost:8080/",
          "height": 347
        },
        "id": "pRw7QJeWMNKj",
        "outputId": "e47acc7d-6f3c-4eae-c0a4-26963e0f5809"
      },
      "execution_count": null,
      "outputs": [
        {
          "output_type": "display_data",
          "data": {
            "text/html": [
              "<style>\n",
              ".list-inline {list-style: none; margin:0; padding: 0}\n",
              ".list-inline>li {display: inline-block}\n",
              ".list-inline>li:not(:last-child)::after {content: \"\\00b7\"; padding: 0 .5ex}\n",
              "</style>\n",
              "<ol class=list-inline><li>8.16666666666667</li><li>8.16666666666667</li><li>8.16666666666667</li><li>8.16666666666667</li><li>8.16666666666667</li><li>8.16666666666667</li><li>8.16666666666667</li><li>8.16666666666667</li><li>8.16666666666667</li><li>8.16666666666667</li><li>8.16666666666667</li><li>8.16666666666667</li><li>8.16666666666667</li><li>8.16666666666667</li><li>8.08333333333333</li><li>8.08333333333333</li><li>8.08333333333333</li><li>8.08333333333333</li><li>8.08333333333333</li><li>8.08333333333333</li><li>8.08333333333333</li><li>8.08333333333333</li><li>8.08333333333333</li><li>8.08333333333333</li><li>8.08333333333333</li><li>8</li><li>8</li><li>8</li><li>8</li><li>8</li><li>8</li><li>8</li><li>8</li><li>8</li><li>8</li><li>8</li><li>8</li><li>8</li><li>8</li><li>8</li><li>8</li><li>7.91666666666667</li><li>7.91666666666667</li><li>7.91666666666667</li><li>7.91666666666667</li><li>7.91666666666667</li><li>7.91666666666667</li><li>7.83333333333333</li><li>7.83333333333333</li><li>7.83333333333333</li><li>7.83333333333333</li><li>7.83333333333333</li><li>7.83333333333333</li><li>7.83333333333333</li><li>7.83333333333333</li><li>7.83333333333333</li><li>7.83333333333333</li><li>7.83333333333333</li><li>7.83333333333333</li><li>7.83333333333333</li><li>7.83333333333333</li><li>7.75</li><li>7.75</li><li>7.75</li><li>7.75</li><li>7.75</li><li>7.75</li><li>7.75</li><li>7.75</li><li>7.75</li><li>7.75</li><li>7.75</li><li>7.75</li><li>7.75</li><li>7.75</li><li>7.75</li><li>7.75</li><li>7.75</li><li>7.75</li><li>7.75</li><li>7.75</li><li>7.75</li><li>7.75</li><li>7.75</li><li>7.66666666666667</li><li>7.66666666666667</li><li>7.66666666666667</li><li>7.66666666666667</li><li>7.66666666666667</li><li>7.66666666666667</li><li>7.66666666666667</li><li>7.66666666666667</li><li>7.66666666666667</li><li>7.66666666666667</li><li>7.66666666666667</li><li>7.66666666666667</li><li>7.66666666666667</li><li>7.66666666666667</li><li>7.66666666666667</li><li>7.58333333333333</li><li>7.58333333333333</li><li>7.58333333333333</li><li>7.58333333333333</li><li>7.58333333333333</li><li>7.58333333333333</li><li>7.58333333333333</li><li>7.58333333333333</li><li>7.58333333333333</li><li>7.58333333333333</li><li>7.58333333333333</li><li>7.58333333333333</li><li>7.58333333333333</li><li>7.5</li><li>7.5</li><li>7.5</li><li>7.5</li><li>7.5</li><li>7.5</li><li>7.5</li><li>7.5</li><li>7.5</li><li>7.5</li><li>7.5</li><li>7.5</li><li>7.5</li><li>7.5</li><li>7.5</li><li>7.5</li><li>7.41666666666667</li><li>7.41666666666667</li><li>7.41666666666667</li><li>7.41666666666667</li><li>7.41666666666667</li><li>7.41666666666667</li><li>7.41666666666667</li><li>7.33333333333333</li><li>7.33333333333333</li><li>7.33333333333333</li><li>7.33333333333333</li><li>7.33333333333333</li><li>7.33333333333333</li><li>7.33333333333333</li><li>7.33333333333333</li><li>7.33333333333333</li><li>7.33333333333333</li><li>7.33333333333333</li><li>7.33333333333333</li><li>7.33333333333333</li><li>7.25</li><li>7.25</li><li>7.25</li><li>7.25</li><li>7.25</li><li>7.25</li><li>7.25</li><li>7.25</li><li>7.25</li><li>7.25</li><li>7.25</li><li>7.16666666666667</li><li>7.16666666666667</li><li>7.16666666666667</li><li>7.16666666666667</li><li>7.16666666666667</li><li>7.16666666666667</li><li>7.16666666666667</li><li>7.16666666666667</li><li>7.16666666666667</li><li>7.16666666666667</li><li>7.16666666666667</li><li>7.16666666666667</li><li>7.16666666666667</li><li>7.08333333333333</li><li>7.08333333333333</li><li>7.08333333333333</li><li>7.08333333333333</li><li>7.08333333333333</li><li>7.08333333333333</li><li>7.08333333333333</li><li>7.08333333333333</li><li>7.08333333333333</li><li>7.08333333333333</li><li>7</li><li>7</li><li>7</li><li>7</li><li>7</li><li>7</li><li>7</li><li>7</li><li>7</li><li>7</li><li>7</li><li>7</li><li>7</li><li>7</li><li>6.91666666666667</li><li>6.91666666666667</li><li>6.91666666666667</li><li>6.91666666666667</li><li>⋯</li><li>6.58333333333333</li><li>6.58333333333333</li><li>6.58333333333333</li><li>6.58333333333333</li><li>6.58333333333333</li><li>6.58333333333333</li><li>6.58333333333333</li><li>6.58333333333333</li><li>6.58333333333333</li><li>6.5</li><li>6.5</li><li>6.5</li><li>6.5</li><li>6.5</li><li>6.5</li><li>6.5</li><li>6.5</li><li>6.5</li><li>6.5</li><li>6.5</li><li>6.5</li><li>6.5</li><li>6.5</li><li>6.5</li><li>6.5</li><li>6.5</li><li>6.5</li><li>6.5</li><li>6.5</li><li>6.5</li><li>6.5</li><li>6.41666666666667</li><li>6.41666666666667</li><li>6.41666666666667</li><li>6.41666666666667</li><li>6.41666666666667</li><li>6.41666666666667</li><li>6.41666666666667</li><li>6.41666666666667</li><li>6.41666666666667</li><li>6.41666666666667</li><li>6.41666666666667</li><li>6.41666666666667</li><li>6.41666666666667</li><li>6.33333333333333</li><li>6.33333333333333</li><li>6.33333333333333</li><li>6.33333333333333</li><li>6.33333333333333</li><li>6.33333333333333</li><li>6.33333333333333</li><li>6.33333333333333</li><li>6.33333333333333</li><li>6.33333333333333</li><li>6.25</li><li>6.25</li><li>6.25</li><li>6.25</li><li>6.25</li><li>6.25</li><li>6.25</li><li>6.16666666666667</li><li>6.16666666666667</li><li>6.16666666666667</li><li>6.16666666666667</li><li>6.16666666666667</li><li>6.16666666666667</li><li>6.16666666666667</li><li>6.16666666666667</li><li>6.08333333333333</li><li>6.08333333333333</li><li>6.08333333333333</li><li>6.08333333333333</li><li>6.08333333333333</li><li>6.08333333333333</li><li>6.08333333333333</li><li>6.08333333333333</li><li>6.08333333333333</li><li>6.08333333333333</li><li>6.08333333333333</li><li>6.08333333333333</li><li>6</li><li>6</li><li>6</li><li>6</li><li>6</li><li>6</li><li>6</li><li>6</li><li>6</li><li>6</li><li>6</li><li>6</li><li>6</li><li>6</li><li>5.91666666666667</li><li>5.91666666666667</li><li>5.91666666666667</li><li>5.83333333333333</li><li>5.83333333333333</li><li>5.83333333333333</li><li>5.83333333333333</li><li>5.83333333333333</li><li>5.83333333333333</li><li>5.83333333333333</li><li>5.83333333333333</li><li>5.83333333333333</li><li>5.83333333333333</li><li>5.83333333333333</li><li>5.83333333333333</li><li>5.83333333333333</li><li>5.75</li><li>5.75</li><li>5.75</li><li>5.75</li><li>5.75</li><li>5.75</li><li>5.75</li><li>5.75</li><li>5.75</li><li>5.75</li><li>5.75</li><li>5.75</li><li>5.75</li><li>5.75</li><li>5.75</li><li>5.75</li><li>5.75</li><li>5.75</li><li>5.75</li><li>5.75</li><li>5.75</li><li>5.66666666666667</li><li>5.66666666666667</li><li>5.66666666666667</li><li>5.66666666666667</li><li>5.66666666666667</li><li>5.66666666666667</li><li>5.66666666666667</li><li>5.66666666666667</li><li>5.66666666666667</li><li>5.66666666666667</li><li>5.58333333333333</li><li>5.58333333333333</li><li>5.58333333333333</li><li>5.58333333333333</li><li>5.58333333333333</li><li>5.58333333333333</li><li>5.58333333333333</li><li>5.58333333333333</li><li>5.58333333333333</li><li>5.58333333333333</li><li>5.58333333333333</li><li>5.58333333333333</li><li>5.58333333333333</li><li>5.58333333333333</li><li>5.58333333333333</li><li>5.5</li><li>5.5</li><li>5.5</li><li>5.5</li><li>5.5</li><li>5.5</li><li>5.5</li><li>5.5</li><li>5.5</li><li>5.5</li><li>5.5</li><li>5.5</li><li>5.5</li><li>5.5</li><li>5.5</li><li>5.5</li><li>5.5</li><li>5.41666666666667</li><li>5.41666666666667</li><li>5.41666666666667</li><li>5.41666666666667</li><li>5.41666666666667</li><li>5.41666666666667</li><li>5.41666666666667</li><li>5.41666666666667</li><li>5.41666666666667</li><li>5.41666666666667</li><li>5.41666666666667</li><li>5.41666666666667</li><li>5.41666666666667</li><li>5.41666666666667</li><li>5.41666666666667</li><li>5.33333333333333</li><li>5.33333333333333</li><li>5.33333333333333</li><li>5.33333333333333</li><li>5.33333333333333</li><li>5.33333333333333</li><li>5.33333333333333</li><li>5.33333333333333</li><li>5.25</li><li>5.25</li><li>5.25</li></ol>\n"
            ],
            "text/markdown": "1. 8.16666666666667\n2. 8.16666666666667\n3. 8.16666666666667\n4. 8.16666666666667\n5. 8.16666666666667\n6. 8.16666666666667\n7. 8.16666666666667\n8. 8.16666666666667\n9. 8.16666666666667\n10. 8.16666666666667\n11. 8.16666666666667\n12. 8.16666666666667\n13. 8.16666666666667\n14. 8.16666666666667\n15. 8.08333333333333\n16. 8.08333333333333\n17. 8.08333333333333\n18. 8.08333333333333\n19. 8.08333333333333\n20. 8.08333333333333\n21. 8.08333333333333\n22. 8.08333333333333\n23. 8.08333333333333\n24. 8.08333333333333\n25. 8.08333333333333\n26. 8\n27. 8\n28. 8\n29. 8\n30. 8\n31. 8\n32. 8\n33. 8\n34. 8\n35. 8\n36. 8\n37. 8\n38. 8\n39. 8\n40. 8\n41. 8\n42. 7.91666666666667\n43. 7.91666666666667\n44. 7.91666666666667\n45. 7.91666666666667\n46. 7.91666666666667\n47. 7.91666666666667\n48. 7.83333333333333\n49. 7.83333333333333\n50. 7.83333333333333\n51. 7.83333333333333\n52. 7.83333333333333\n53. 7.83333333333333\n54. 7.83333333333333\n55. 7.83333333333333\n56. 7.83333333333333\n57. 7.83333333333333\n58. 7.83333333333333\n59. 7.83333333333333\n60. 7.83333333333333\n61. 7.83333333333333\n62. 7.75\n63. 7.75\n64. 7.75\n65. 7.75\n66. 7.75\n67. 7.75\n68. 7.75\n69. 7.75\n70. 7.75\n71. 7.75\n72. 7.75\n73. 7.75\n74. 7.75\n75. 7.75\n76. 7.75\n77. 7.75\n78. 7.75\n79. 7.75\n80. 7.75\n81. 7.75\n82. 7.75\n83. 7.75\n84. 7.75\n85. 7.66666666666667\n86. 7.66666666666667\n87. 7.66666666666667\n88. 7.66666666666667\n89. 7.66666666666667\n90. 7.66666666666667\n91. 7.66666666666667\n92. 7.66666666666667\n93. 7.66666666666667\n94. 7.66666666666667\n95. 7.66666666666667\n96. 7.66666666666667\n97. 7.66666666666667\n98. 7.66666666666667\n99. 7.66666666666667\n100. 7.58333333333333\n101. 7.58333333333333\n102. 7.58333333333333\n103. 7.58333333333333\n104. 7.58333333333333\n105. 7.58333333333333\n106. 7.58333333333333\n107. 7.58333333333333\n108. 7.58333333333333\n109. 7.58333333333333\n110. 7.58333333333333\n111. 7.58333333333333\n112. 7.58333333333333\n113. 7.5\n114. 7.5\n115. 7.5\n116. 7.5\n117. 7.5\n118. 7.5\n119. 7.5\n120. 7.5\n121. 7.5\n122. 7.5\n123. 7.5\n124. 7.5\n125. 7.5\n126. 7.5\n127. 7.5\n128. 7.5\n129. 7.41666666666667\n130. 7.41666666666667\n131. 7.41666666666667\n132. 7.41666666666667\n133. 7.41666666666667\n134. 7.41666666666667\n135. 7.41666666666667\n136. 7.33333333333333\n137. 7.33333333333333\n138. 7.33333333333333\n139. 7.33333333333333\n140. 7.33333333333333\n141. 7.33333333333333\n142. 7.33333333333333\n143. 7.33333333333333\n144. 7.33333333333333\n145. 7.33333333333333\n146. 7.33333333333333\n147. 7.33333333333333\n148. 7.33333333333333\n149. 7.25\n150. 7.25\n151. 7.25\n152. 7.25\n153. 7.25\n154. 7.25\n155. 7.25\n156. 7.25\n157. 7.25\n158. 7.25\n159. 7.25\n160. 7.16666666666667\n161. 7.16666666666667\n162. 7.16666666666667\n163. 7.16666666666667\n164. 7.16666666666667\n165. 7.16666666666667\n166. 7.16666666666667\n167. 7.16666666666667\n168. 7.16666666666667\n169. 7.16666666666667\n170. 7.16666666666667\n171. 7.16666666666667\n172. 7.16666666666667\n173. 7.08333333333333\n174. 7.08333333333333\n175. 7.08333333333333\n176. 7.08333333333333\n177. 7.08333333333333\n178. 7.08333333333333\n179. 7.08333333333333\n180. 7.08333333333333\n181. 7.08333333333333\n182. 7.08333333333333\n183. 7\n184. 7\n185. 7\n186. 7\n187. 7\n188. 7\n189. 7\n190. 7\n191. 7\n192. 7\n193. 7\n194. 7\n195. 7\n196. 7\n197. 6.91666666666667\n198. 6.91666666666667\n199. 6.91666666666667\n200. 6.91666666666667\n201. ⋯\n202. 6.58333333333333\n203. 6.58333333333333\n204. 6.58333333333333\n205. 6.58333333333333\n206. 6.58333333333333\n207. 6.58333333333333\n208. 6.58333333333333\n209. 6.58333333333333\n210. 6.58333333333333\n211. 6.5\n212. 6.5\n213. 6.5\n214. 6.5\n215. 6.5\n216. 6.5\n217. 6.5\n218. 6.5\n219. 6.5\n220. 6.5\n221. 6.5\n222. 6.5\n223. 6.5\n224. 6.5\n225. 6.5\n226. 6.5\n227. 6.5\n228. 6.5\n229. 6.5\n230. 6.5\n231. 6.5\n232. 6.5\n233. 6.41666666666667\n234. 6.41666666666667\n235. 6.41666666666667\n236. 6.41666666666667\n237. 6.41666666666667\n238. 6.41666666666667\n239. 6.41666666666667\n240. 6.41666666666667\n241. 6.41666666666667\n242. 6.41666666666667\n243. 6.41666666666667\n244. 6.41666666666667\n245. 6.41666666666667\n246. 6.33333333333333\n247. 6.33333333333333\n248. 6.33333333333333\n249. 6.33333333333333\n250. 6.33333333333333\n251. 6.33333333333333\n252. 6.33333333333333\n253. 6.33333333333333\n254. 6.33333333333333\n255. 6.33333333333333\n256. 6.25\n257. 6.25\n258. 6.25\n259. 6.25\n260. 6.25\n261. 6.25\n262. 6.25\n263. 6.16666666666667\n264. 6.16666666666667\n265. 6.16666666666667\n266. 6.16666666666667\n267. 6.16666666666667\n268. 6.16666666666667\n269. 6.16666666666667\n270. 6.16666666666667\n271. 6.08333333333333\n272. 6.08333333333333\n273. 6.08333333333333\n274. 6.08333333333333\n275. 6.08333333333333\n276. 6.08333333333333\n277. 6.08333333333333\n278. 6.08333333333333\n279. 6.08333333333333\n280. 6.08333333333333\n281. 6.08333333333333\n282. 6.08333333333333\n283. 6\n284. 6\n285. 6\n286. 6\n287. 6\n288. 6\n289. 6\n290. 6\n291. 6\n292. 6\n293. 6\n294. 6\n295. 6\n296. 6\n297. 5.91666666666667\n298. 5.91666666666667\n299. 5.91666666666667\n300. 5.83333333333333\n301. 5.83333333333333\n302. 5.83333333333333\n303. 5.83333333333333\n304. 5.83333333333333\n305. 5.83333333333333\n306. 5.83333333333333\n307. 5.83333333333333\n308. 5.83333333333333\n309. 5.83333333333333\n310. 5.83333333333333\n311. 5.83333333333333\n312. 5.83333333333333\n313. 5.75\n314. 5.75\n315. 5.75\n316. 5.75\n317. 5.75\n318. 5.75\n319. 5.75\n320. 5.75\n321. 5.75\n322. 5.75\n323. 5.75\n324. 5.75\n325. 5.75\n326. 5.75\n327. 5.75\n328. 5.75\n329. 5.75\n330. 5.75\n331. 5.75\n332. 5.75\n333. 5.75\n334. 5.66666666666667\n335. 5.66666666666667\n336. 5.66666666666667\n337. 5.66666666666667\n338. 5.66666666666667\n339. 5.66666666666667\n340. 5.66666666666667\n341. 5.66666666666667\n342. 5.66666666666667\n343. 5.66666666666667\n344. 5.58333333333333\n345. 5.58333333333333\n346. 5.58333333333333\n347. 5.58333333333333\n348. 5.58333333333333\n349. 5.58333333333333\n350. 5.58333333333333\n351. 5.58333333333333\n352. 5.58333333333333\n353. 5.58333333333333\n354. 5.58333333333333\n355. 5.58333333333333\n356. 5.58333333333333\n357. 5.58333333333333\n358. 5.58333333333333\n359. 5.5\n360. 5.5\n361. 5.5\n362. 5.5\n363. 5.5\n364. 5.5\n365. 5.5\n366. 5.5\n367. 5.5\n368. 5.5\n369. 5.5\n370. 5.5\n371. 5.5\n372. 5.5\n373. 5.5\n374. 5.5\n375. 5.5\n376. 5.41666666666667\n377. 5.41666666666667\n378. 5.41666666666667\n379. 5.41666666666667\n380. 5.41666666666667\n381. 5.41666666666667\n382. 5.41666666666667\n383. 5.41666666666667\n384. 5.41666666666667\n385. 5.41666666666667\n386. 5.41666666666667\n387. 5.41666666666667\n388. 5.41666666666667\n389. 5.41666666666667\n390. 5.41666666666667\n391. 5.33333333333333\n392. 5.33333333333333\n393. 5.33333333333333\n394. 5.33333333333333\n395. 5.33333333333333\n396. 5.33333333333333\n397. 5.33333333333333\n398. 5.33333333333333\n399. 5.25\n400. 5.25\n401. 5.25\n\n\n",
            "text/latex": "\\begin{enumerate*}\n\\item 8.16666666666667\n\\item 8.16666666666667\n\\item 8.16666666666667\n\\item 8.16666666666667\n\\item 8.16666666666667\n\\item 8.16666666666667\n\\item 8.16666666666667\n\\item 8.16666666666667\n\\item 8.16666666666667\n\\item 8.16666666666667\n\\item 8.16666666666667\n\\item 8.16666666666667\n\\item 8.16666666666667\n\\item 8.16666666666667\n\\item 8.08333333333333\n\\item 8.08333333333333\n\\item 8.08333333333333\n\\item 8.08333333333333\n\\item 8.08333333333333\n\\item 8.08333333333333\n\\item 8.08333333333333\n\\item 8.08333333333333\n\\item 8.08333333333333\n\\item 8.08333333333333\n\\item 8.08333333333333\n\\item 8\n\\item 8\n\\item 8\n\\item 8\n\\item 8\n\\item 8\n\\item 8\n\\item 8\n\\item 8\n\\item 8\n\\item 8\n\\item 8\n\\item 8\n\\item 8\n\\item 8\n\\item 8\n\\item 7.91666666666667\n\\item 7.91666666666667\n\\item 7.91666666666667\n\\item 7.91666666666667\n\\item 7.91666666666667\n\\item 7.91666666666667\n\\item 7.83333333333333\n\\item 7.83333333333333\n\\item 7.83333333333333\n\\item 7.83333333333333\n\\item 7.83333333333333\n\\item 7.83333333333333\n\\item 7.83333333333333\n\\item 7.83333333333333\n\\item 7.83333333333333\n\\item 7.83333333333333\n\\item 7.83333333333333\n\\item 7.83333333333333\n\\item 7.83333333333333\n\\item 7.83333333333333\n\\item 7.75\n\\item 7.75\n\\item 7.75\n\\item 7.75\n\\item 7.75\n\\item 7.75\n\\item 7.75\n\\item 7.75\n\\item 7.75\n\\item 7.75\n\\item 7.75\n\\item 7.75\n\\item 7.75\n\\item 7.75\n\\item 7.75\n\\item 7.75\n\\item 7.75\n\\item 7.75\n\\item 7.75\n\\item 7.75\n\\item 7.75\n\\item 7.75\n\\item 7.75\n\\item 7.66666666666667\n\\item 7.66666666666667\n\\item 7.66666666666667\n\\item 7.66666666666667\n\\item 7.66666666666667\n\\item 7.66666666666667\n\\item 7.66666666666667\n\\item 7.66666666666667\n\\item 7.66666666666667\n\\item 7.66666666666667\n\\item 7.66666666666667\n\\item 7.66666666666667\n\\item 7.66666666666667\n\\item 7.66666666666667\n\\item 7.66666666666667\n\\item 7.58333333333333\n\\item 7.58333333333333\n\\item 7.58333333333333\n\\item 7.58333333333333\n\\item 7.58333333333333\n\\item 7.58333333333333\n\\item 7.58333333333333\n\\item 7.58333333333333\n\\item 7.58333333333333\n\\item 7.58333333333333\n\\item 7.58333333333333\n\\item 7.58333333333333\n\\item 7.58333333333333\n\\item 7.5\n\\item 7.5\n\\item 7.5\n\\item 7.5\n\\item 7.5\n\\item 7.5\n\\item 7.5\n\\item 7.5\n\\item 7.5\n\\item 7.5\n\\item 7.5\n\\item 7.5\n\\item 7.5\n\\item 7.5\n\\item 7.5\n\\item 7.5\n\\item 7.41666666666667\n\\item 7.41666666666667\n\\item 7.41666666666667\n\\item 7.41666666666667\n\\item 7.41666666666667\n\\item 7.41666666666667\n\\item 7.41666666666667\n\\item 7.33333333333333\n\\item 7.33333333333333\n\\item 7.33333333333333\n\\item 7.33333333333333\n\\item 7.33333333333333\n\\item 7.33333333333333\n\\item 7.33333333333333\n\\item 7.33333333333333\n\\item 7.33333333333333\n\\item 7.33333333333333\n\\item 7.33333333333333\n\\item 7.33333333333333\n\\item 7.33333333333333\n\\item 7.25\n\\item 7.25\n\\item 7.25\n\\item 7.25\n\\item 7.25\n\\item 7.25\n\\item 7.25\n\\item 7.25\n\\item 7.25\n\\item 7.25\n\\item 7.25\n\\item 7.16666666666667\n\\item 7.16666666666667\n\\item 7.16666666666667\n\\item 7.16666666666667\n\\item 7.16666666666667\n\\item 7.16666666666667\n\\item 7.16666666666667\n\\item 7.16666666666667\n\\item 7.16666666666667\n\\item 7.16666666666667\n\\item 7.16666666666667\n\\item 7.16666666666667\n\\item 7.16666666666667\n\\item 7.08333333333333\n\\item 7.08333333333333\n\\item 7.08333333333333\n\\item 7.08333333333333\n\\item 7.08333333333333\n\\item 7.08333333333333\n\\item 7.08333333333333\n\\item 7.08333333333333\n\\item 7.08333333333333\n\\item 7.08333333333333\n\\item 7\n\\item 7\n\\item 7\n\\item 7\n\\item 7\n\\item 7\n\\item 7\n\\item 7\n\\item 7\n\\item 7\n\\item 7\n\\item 7\n\\item 7\n\\item 7\n\\item 6.91666666666667\n\\item 6.91666666666667\n\\item 6.91666666666667\n\\item 6.91666666666667\n\\item ⋯\n\\item 6.58333333333333\n\\item 6.58333333333333\n\\item 6.58333333333333\n\\item 6.58333333333333\n\\item 6.58333333333333\n\\item 6.58333333333333\n\\item 6.58333333333333\n\\item 6.58333333333333\n\\item 6.58333333333333\n\\item 6.5\n\\item 6.5\n\\item 6.5\n\\item 6.5\n\\item 6.5\n\\item 6.5\n\\item 6.5\n\\item 6.5\n\\item 6.5\n\\item 6.5\n\\item 6.5\n\\item 6.5\n\\item 6.5\n\\item 6.5\n\\item 6.5\n\\item 6.5\n\\item 6.5\n\\item 6.5\n\\item 6.5\n\\item 6.5\n\\item 6.5\n\\item 6.5\n\\item 6.41666666666667\n\\item 6.41666666666667\n\\item 6.41666666666667\n\\item 6.41666666666667\n\\item 6.41666666666667\n\\item 6.41666666666667\n\\item 6.41666666666667\n\\item 6.41666666666667\n\\item 6.41666666666667\n\\item 6.41666666666667\n\\item 6.41666666666667\n\\item 6.41666666666667\n\\item 6.41666666666667\n\\item 6.33333333333333\n\\item 6.33333333333333\n\\item 6.33333333333333\n\\item 6.33333333333333\n\\item 6.33333333333333\n\\item 6.33333333333333\n\\item 6.33333333333333\n\\item 6.33333333333333\n\\item 6.33333333333333\n\\item 6.33333333333333\n\\item 6.25\n\\item 6.25\n\\item 6.25\n\\item 6.25\n\\item 6.25\n\\item 6.25\n\\item 6.25\n\\item 6.16666666666667\n\\item 6.16666666666667\n\\item 6.16666666666667\n\\item 6.16666666666667\n\\item 6.16666666666667\n\\item 6.16666666666667\n\\item 6.16666666666667\n\\item 6.16666666666667\n\\item 6.08333333333333\n\\item 6.08333333333333\n\\item 6.08333333333333\n\\item 6.08333333333333\n\\item 6.08333333333333\n\\item 6.08333333333333\n\\item 6.08333333333333\n\\item 6.08333333333333\n\\item 6.08333333333333\n\\item 6.08333333333333\n\\item 6.08333333333333\n\\item 6.08333333333333\n\\item 6\n\\item 6\n\\item 6\n\\item 6\n\\item 6\n\\item 6\n\\item 6\n\\item 6\n\\item 6\n\\item 6\n\\item 6\n\\item 6\n\\item 6\n\\item 6\n\\item 5.91666666666667\n\\item 5.91666666666667\n\\item 5.91666666666667\n\\item 5.83333333333333\n\\item 5.83333333333333\n\\item 5.83333333333333\n\\item 5.83333333333333\n\\item 5.83333333333333\n\\item 5.83333333333333\n\\item 5.83333333333333\n\\item 5.83333333333333\n\\item 5.83333333333333\n\\item 5.83333333333333\n\\item 5.83333333333333\n\\item 5.83333333333333\n\\item 5.83333333333333\n\\item 5.75\n\\item 5.75\n\\item 5.75\n\\item 5.75\n\\item 5.75\n\\item 5.75\n\\item 5.75\n\\item 5.75\n\\item 5.75\n\\item 5.75\n\\item 5.75\n\\item 5.75\n\\item 5.75\n\\item 5.75\n\\item 5.75\n\\item 5.75\n\\item 5.75\n\\item 5.75\n\\item 5.75\n\\item 5.75\n\\item 5.75\n\\item 5.66666666666667\n\\item 5.66666666666667\n\\item 5.66666666666667\n\\item 5.66666666666667\n\\item 5.66666666666667\n\\item 5.66666666666667\n\\item 5.66666666666667\n\\item 5.66666666666667\n\\item 5.66666666666667\n\\item 5.66666666666667\n\\item 5.58333333333333\n\\item 5.58333333333333\n\\item 5.58333333333333\n\\item 5.58333333333333\n\\item 5.58333333333333\n\\item 5.58333333333333\n\\item 5.58333333333333\n\\item 5.58333333333333\n\\item 5.58333333333333\n\\item 5.58333333333333\n\\item 5.58333333333333\n\\item 5.58333333333333\n\\item 5.58333333333333\n\\item 5.58333333333333\n\\item 5.58333333333333\n\\item 5.5\n\\item 5.5\n\\item 5.5\n\\item 5.5\n\\item 5.5\n\\item 5.5\n\\item 5.5\n\\item 5.5\n\\item 5.5\n\\item 5.5\n\\item 5.5\n\\item 5.5\n\\item 5.5\n\\item 5.5\n\\item 5.5\n\\item 5.5\n\\item 5.5\n\\item 5.41666666666667\n\\item 5.41666666666667\n\\item 5.41666666666667\n\\item 5.41666666666667\n\\item 5.41666666666667\n\\item 5.41666666666667\n\\item 5.41666666666667\n\\item 5.41666666666667\n\\item 5.41666666666667\n\\item 5.41666666666667\n\\item 5.41666666666667\n\\item 5.41666666666667\n\\item 5.41666666666667\n\\item 5.41666666666667\n\\item 5.41666666666667\n\\item 5.33333333333333\n\\item 5.33333333333333\n\\item 5.33333333333333\n\\item 5.33333333333333\n\\item 5.33333333333333\n\\item 5.33333333333333\n\\item 5.33333333333333\n\\item 5.33333333333333\n\\item 5.25\n\\item 5.25\n\\item 5.25\n\\end{enumerate*}\n",
            "text/plain": [
              "  [1] 8.166667 8.166667 8.166667 8.166667 8.166667 8.166667 8.166667 8.166667\n",
              "  [9] 8.166667 8.166667 8.166667 8.166667 8.166667 8.166667 8.083333 8.083333\n",
              " [17] 8.083333 8.083333 8.083333 8.083333 8.083333 8.083333 8.083333 8.083333\n",
              " [25] 8.083333 8.000000 8.000000 8.000000 8.000000 8.000000 8.000000 8.000000\n",
              " [33] 8.000000 8.000000 8.000000 8.000000 8.000000 8.000000 8.000000 8.000000\n",
              " [41] 8.000000 7.916667 7.916667 7.916667 7.916667 7.916667 7.916667 7.833333\n",
              " [49] 7.833333 7.833333 7.833333 7.833333 7.833333 7.833333 7.833333 7.833333\n",
              " [57] 7.833333 7.833333 7.833333 7.833333 7.833333 7.750000 7.750000 7.750000\n",
              " [65] 7.750000 7.750000 7.750000 7.750000 7.750000 7.750000 7.750000 7.750000\n",
              " [73] 7.750000 7.750000 7.750000 7.750000 7.750000 7.750000 7.750000 7.750000\n",
              " [81] 7.750000 7.750000 7.750000 7.750000 7.666667 7.666667 7.666667 7.666667\n",
              " [89] 7.666667 7.666667 7.666667 7.666667 7.666667 7.666667 7.666667 7.666667\n",
              " [97] 7.666667 7.666667 7.666667 7.583333 7.583333 7.583333 7.583333 7.583333\n",
              "[105] 7.583333 7.583333 7.583333 7.583333 7.583333 7.583333 7.583333 7.583333\n",
              "[113] 7.500000 7.500000 7.500000 7.500000 7.500000 7.500000 7.500000 7.500000\n",
              "[121] 7.500000 7.500000 7.500000 7.500000 7.500000 7.500000 7.500000 7.500000\n",
              "[129] 7.416667 7.416667 7.416667 7.416667 7.416667 7.416667 7.416667 7.333333\n",
              "[137] 7.333333 7.333333 7.333333 7.333333 7.333333 7.333333 7.333333 7.333333\n",
              "[145] 7.333333 7.333333 7.333333 7.333333 7.250000 7.250000 7.250000 7.250000\n",
              "[153] 7.250000 7.250000 7.250000 7.250000 7.250000 7.250000 7.250000 7.166667\n",
              "[161] 7.166667 7.166667 7.166667 7.166667 7.166667 7.166667 7.166667 7.166667\n",
              "[169] 7.166667 7.166667 7.166667 7.166667 7.083333 7.083333 7.083333 7.083333\n",
              "[177] 7.083333 7.083333 7.083333 7.083333 7.083333 7.083333 7.000000 7.000000\n",
              "[185] 7.000000 7.000000 7.000000 7.000000 7.000000 7.000000 7.000000 7.000000\n",
              "[193] 7.000000 7.000000 7.000000 7.000000 6.916667 6.916667 6.916667 6.916667\n",
              "[201] 6.916667 6.916667 6.916667 6.916667 6.916667 6.916667 6.916667 6.916667\n",
              "[209] 6.916667 6.916667 6.916667 6.916667 6.916667 6.916667 6.916667 6.833333\n",
              "[217] 6.833333 6.833333 6.833333 6.833333 6.833333 6.833333 6.833333 6.833333\n",
              "[225] 6.833333 6.833333 6.833333 6.833333 6.833333 6.833333 6.750000 6.750000\n",
              "[233] 6.750000 6.750000 6.750000 6.750000 6.750000 6.750000 6.750000 6.750000\n",
              "[241] 6.750000 6.750000 6.750000 6.750000 6.750000 6.750000 6.750000 6.750000\n",
              "[249] 6.750000 6.750000 6.750000 6.750000 6.750000 6.666667 6.666667 6.666667\n",
              "[257] 6.666667 6.666667 6.666667 6.666667 6.666667 6.666667 6.666667 6.666667\n",
              "[265] 6.666667 6.666667 6.666667 6.666667 6.583333 6.583333 6.583333 6.583333\n",
              "[273] 6.583333 6.583333 6.583333 6.583333 6.583333 6.583333 6.583333 6.583333\n",
              "[281] 6.583333 6.583333 6.500000 6.500000 6.500000 6.500000 6.500000 6.500000\n",
              "[289] 6.500000 6.500000 6.500000 6.500000 6.500000 6.500000 6.500000 6.500000\n",
              "[297] 6.500000 6.500000 6.500000 6.500000 6.500000 6.500000 6.500000 6.500000\n",
              "[305] 6.416667 6.416667 6.416667 6.416667 6.416667 6.416667 6.416667 6.416667\n",
              "[313] 6.416667 6.416667 6.416667 6.416667 6.416667 6.333333 6.333333 6.333333\n",
              "[321] 6.333333 6.333333 6.333333 6.333333 6.333333 6.333333 6.333333 6.250000\n",
              "[329] 6.250000 6.250000 6.250000 6.250000 6.250000 6.250000 6.166667 6.166667\n",
              "[337] 6.166667 6.166667 6.166667 6.166667 6.166667 6.166667 6.083333 6.083333\n",
              "[345] 6.083333 6.083333 6.083333 6.083333 6.083333 6.083333 6.083333 6.083333\n",
              "[353] 6.083333 6.083333 6.000000 6.000000 6.000000 6.000000 6.000000 6.000000\n",
              "[361] 6.000000 6.000000 6.000000 6.000000 6.000000 6.000000 6.000000 6.000000\n",
              "[369] 5.916667 5.916667 5.916667 5.833333 5.833333 5.833333 5.833333 5.833333\n",
              "[377] 5.833333 5.833333 5.833333 5.833333 5.833333 5.833333 5.833333 5.833333\n",
              "[385] 5.750000 5.750000 5.750000 5.750000 5.750000 5.750000 5.750000 5.750000\n",
              "[393] 5.750000 5.750000 5.750000 5.750000 5.750000 5.750000 5.750000 5.750000\n",
              "[401] 5.750000 5.750000 5.750000 5.750000 5.750000 5.666667 5.666667 5.666667\n",
              "[409] 5.666667 5.666667 5.666667 5.666667 5.666667 5.666667 5.666667 5.583333\n",
              "[417] 5.583333 5.583333 5.583333 5.583333 5.583333 5.583333 5.583333 5.583333\n",
              "[425] 5.583333 5.583333 5.583333 5.583333 5.583333 5.583333 5.500000 5.500000\n",
              "[433] 5.500000 5.500000 5.500000 5.500000 5.500000 5.500000 5.500000 5.500000\n",
              "[441] 5.500000 5.500000 5.500000 5.500000 5.500000 5.500000 5.500000 5.416667\n",
              "[449] 5.416667 5.416667 5.416667 5.416667 5.416667 5.416667 5.416667 5.416667\n",
              "[457] 5.416667 5.416667 5.416667 5.416667 5.416667 5.416667 5.333333 5.333333\n",
              "[465] 5.333333 5.333333 5.333333 5.333333 5.333333 5.333333 5.250000 5.250000\n",
              "[473] 5.250000"
            ]
          },
          "metadata": {}
        }
      ]
    },
    {
      "cell_type": "markdown",
      "source": [
        "# 41Page 예제 (연도 컬럼을 생성하자)"
      ],
      "metadata": {
        "id": "9zfxZTYi1IlW"
      }
    },
    {
      "cell_type": "code",
      "source": [
        "# 41Page 예제\n",
        "# 예제\n",
        "# 연도 컬럼을 생성하자\n",
        "employee$jobyear = employee$jobtime/12\n",
        "employee['jobyear'] = employee$jobtime/12"
      ],
      "metadata": {
        "id": "N7S_RCeE3kQC"
      },
      "execution_count": null,
      "outputs": []
    },
    {
      "cell_type": "markdown",
      "source": [
        "# 42Page 실습 문제"
      ],
      "metadata": {
        "id": "mXghzl5d1ZmC"
      }
    },
    {
      "cell_type": "code",
      "source": [
        "########################### 42page 실습 문제 #############################\n",
        "# 42Page Q1 : 시작임금에 비해 현재 임금이 얼마나 올랐는지 직원별로 계산해서 sal_inc_ratio라는 컬럼 생성\n",
        "employee$? = employee$? / employee$?\n",
        "\n",
        "# 해석 sal_inc_ratio(임금상승률) = 임금 / 초기 임금"
      ],
      "metadata": {
        "id": "IzsXt9ea3ucF"
      },
      "execution_count": null,
      "outputs": []
    },
    {
      "cell_type": "code",
      "source": [
        "# 42Page Q2 : sal_inc_ratio(임금인상률)이 3배 이상 오른 직원들 추출\n",
        "employee[?]"
      ],
      "metadata": {
        "id": "wkHam4xT2DIE"
      },
      "execution_count": null,
      "outputs": []
    },
    {
      "cell_type": "code",
      "source": [
        "# 42Page Q3 : sal_inc_ratio(임금인상률)이 3배 이상 오른 직원들의 평균 근로월을 구하자\n",
        "# hint : mean() 사용\n",
        "mean(employee$?[?])"
      ],
      "metadata": {
        "id": "Facqz6q32SEI"
      },
      "execution_count": null,
      "outputs": []
    },
    {
      "cell_type": "code",
      "source": [
        "# 42Page Q4 : sal_inc_ratio(임금인상률)이 3배 이상 오른 직원들의 평균 근로월을 12로 나눠 평균 근속년수로 산정\n",
        "mean(employee$?[?]) / ?"
      ],
      "metadata": {
        "id": "WjaCCgg82lnd"
      },
      "execution_count": null,
      "outputs": []
    },
    {
      "cell_type": "markdown",
      "source": [
        "# 42Page 실습 문제 정답"
      ],
      "metadata": {
        "id": "J1jY02jG27Ah"
      }
    },
    {
      "cell_type": "code",
      "source": [
        "########################### 42page 실습 문제 #############################\n",
        "# 42Page A1 : 시작임금에 비해 현재 임금이 얼마나 올랐는지 직원별로 계산해서 sal_inc_ratio라는 컬럼 생성\n",
        "employee$sal_inc_ratio = employee$salary / employee$startsal\n",
        "\n",
        "# 해석 sal_inc_ratio(임금상승률) = 임금 / 초기 임금"
      ],
      "metadata": {
        "id": "1U83hvZX29kd"
      },
      "execution_count": null,
      "outputs": []
    },
    {
      "cell_type": "code",
      "source": [
        "# 42Page A2 : sal_inc_ratio(임금인상률)이 3배 이상 오른 직원들 추출\n",
        "employee[employee$sal_inc_ratio >= 3,]"
      ],
      "metadata": {
        "colab": {
          "base_uri": "https://localhost:8080/",
          "height": 411
        },
        "id": "Au9Fsoi029sa",
        "outputId": "24ce61dc-a32a-475c-fa49-63caf01c1c8a"
      },
      "execution_count": null,
      "outputs": [
        {
          "output_type": "display_data",
          "data": {
            "text/html": [
              "<table class=\"dataframe\">\n",
              "<caption>A data.frame: 10 × 10</caption>\n",
              "<thead>\n",
              "\t<tr><th></th><th scope=col>salary</th><th scope=col>age</th><th scope=col>edu</th><th scope=col>startsal</th><th scope=col>jobtime</th><th scope=col>prevexp</th><th scope=col>minority</th><th scope=col>gender</th><th scope=col>jobcat</th><th scope=col>sal_inc_ratio</th></tr>\n",
              "\t<tr><th></th><th scope=col>&lt;int&gt;</th><th scope=col>&lt;int&gt;</th><th scope=col>&lt;int&gt;</th><th scope=col>&lt;int&gt;</th><th scope=col>&lt;int&gt;</th><th scope=col>&lt;int&gt;</th><th scope=col>&lt;fct&gt;</th><th scope=col>&lt;fct&gt;</th><th scope=col>&lt;fct&gt;</th><th scope=col>&lt;dbl&gt;</th></tr>\n",
              "</thead>\n",
              "<tbody>\n",
              "\t<tr><th scope=row>17</th><td> 46000</td><td>26</td><td>15</td><td>14250</td><td>97</td><td> 48</td><td>no_min</td><td>m</td><td>Clerical </td><td>3.228070</td></tr>\n",
              "\t<tr><th scope=row>18</th><td>103750</td><td>32</td><td>16</td><td>27510</td><td>97</td><td> 70</td><td>no_min</td><td>m</td><td>manager  </td><td>3.771356</td></tr>\n",
              "\t<tr><th scope=row>52</th><td> 45150</td><td>25</td><td>15</td><td>15000</td><td>94</td><td> 40</td><td>no_min</td><td>m</td><td>Clerical </td><td>3.010000</td></tr>\n",
              "\t<tr><th scope=row>72</th><td> 54000</td><td>24</td><td>16</td><td>18000</td><td>93</td><td> 11</td><td>no_min</td><td>f</td><td>Clerical </td><td>3.000000</td></tr>\n",
              "\t<tr><th scope=row>106</th><td> 91250</td><td>26</td><td>19</td><td>29490</td><td>91</td><td> 23</td><td>no_min</td><td>m</td><td>manager  </td><td>3.094269</td></tr>\n",
              "\t<tr><th scope=row>111</th><td> 30750</td><td>48</td><td>12</td><td> 9000</td><td>91</td><td>314</td><td>min   </td><td>m</td><td>Custodial</td><td>3.416667</td></tr>\n",
              "\t<tr><th scope=row>218</th><td> 80000</td><td>24</td><td>15</td><td>15750</td><td>82</td><td> 34</td><td>no_min</td><td>m</td><td>Clerical </td><td>5.079365</td></tr>\n",
              "\t<tr><th scope=row>274</th><td> 83750</td><td>24</td><td>16</td><td>21750</td><td>79</td><td> 12</td><td>no_min</td><td>m</td><td>manager  </td><td>3.850575</td></tr>\n",
              "\t<tr><th scope=row>371</th><td> 58125</td><td>22</td><td>16</td><td>18000</td><td>71</td><td> 11</td><td>no_min</td><td>f</td><td>manager  </td><td>3.229167</td></tr>\n",
              "\t<tr><th scope=row>448</th><td> 70000</td><td>22</td><td>16</td><td>21750</td><td>65</td><td> 19</td><td>no_min</td><td>m</td><td>manager  </td><td>3.218391</td></tr>\n",
              "</tbody>\n",
              "</table>\n"
            ],
            "text/markdown": "\nA data.frame: 10 × 10\n\n| <!--/--> | salary &lt;int&gt; | age &lt;int&gt; | edu &lt;int&gt; | startsal &lt;int&gt; | jobtime &lt;int&gt; | prevexp &lt;int&gt; | minority &lt;fct&gt; | gender &lt;fct&gt; | jobcat &lt;fct&gt; | sal_inc_ratio &lt;dbl&gt; |\n|---|---|---|---|---|---|---|---|---|---|---|\n| 17 |  46000 | 26 | 15 | 14250 | 97 |  48 | no_min | m | Clerical  | 3.228070 |\n| 18 | 103750 | 32 | 16 | 27510 | 97 |  70 | no_min | m | manager   | 3.771356 |\n| 52 |  45150 | 25 | 15 | 15000 | 94 |  40 | no_min | m | Clerical  | 3.010000 |\n| 72 |  54000 | 24 | 16 | 18000 | 93 |  11 | no_min | f | Clerical  | 3.000000 |\n| 106 |  91250 | 26 | 19 | 29490 | 91 |  23 | no_min | m | manager   | 3.094269 |\n| 111 |  30750 | 48 | 12 |  9000 | 91 | 314 | min    | m | Custodial | 3.416667 |\n| 218 |  80000 | 24 | 15 | 15750 | 82 |  34 | no_min | m | Clerical  | 5.079365 |\n| 274 |  83750 | 24 | 16 | 21750 | 79 |  12 | no_min | m | manager   | 3.850575 |\n| 371 |  58125 | 22 | 16 | 18000 | 71 |  11 | no_min | f | manager   | 3.229167 |\n| 448 |  70000 | 22 | 16 | 21750 | 65 |  19 | no_min | m | manager   | 3.218391 |\n\n",
            "text/latex": "A data.frame: 10 × 10\n\\begin{tabular}{r|llllllllll}\n  & salary & age & edu & startsal & jobtime & prevexp & minority & gender & jobcat & sal\\_inc\\_ratio\\\\\n  & <int> & <int> & <int> & <int> & <int> & <int> & <fct> & <fct> & <fct> & <dbl>\\\\\n\\hline\n\t17 &  46000 & 26 & 15 & 14250 & 97 &  48 & no\\_min & m & Clerical  & 3.228070\\\\\n\t18 & 103750 & 32 & 16 & 27510 & 97 &  70 & no\\_min & m & manager   & 3.771356\\\\\n\t52 &  45150 & 25 & 15 & 15000 & 94 &  40 & no\\_min & m & Clerical  & 3.010000\\\\\n\t72 &  54000 & 24 & 16 & 18000 & 93 &  11 & no\\_min & f & Clerical  & 3.000000\\\\\n\t106 &  91250 & 26 & 19 & 29490 & 91 &  23 & no\\_min & m & manager   & 3.094269\\\\\n\t111 &  30750 & 48 & 12 &  9000 & 91 & 314 & min    & m & Custodial & 3.416667\\\\\n\t218 &  80000 & 24 & 15 & 15750 & 82 &  34 & no\\_min & m & Clerical  & 5.079365\\\\\n\t274 &  83750 & 24 & 16 & 21750 & 79 &  12 & no\\_min & m & manager   & 3.850575\\\\\n\t371 &  58125 & 22 & 16 & 18000 & 71 &  11 & no\\_min & f & manager   & 3.229167\\\\\n\t448 &  70000 & 22 & 16 & 21750 & 65 &  19 & no\\_min & m & manager   & 3.218391\\\\\n\\end{tabular}\n",
            "text/plain": [
              "    salary age edu startsal jobtime prevexp minority gender jobcat   \n",
              "17   46000 26  15  14250    97       48     no_min   m      Clerical \n",
              "18  103750 32  16  27510    97       70     no_min   m      manager  \n",
              "52   45150 25  15  15000    94       40     no_min   m      Clerical \n",
              "72   54000 24  16  18000    93       11     no_min   f      Clerical \n",
              "106  91250 26  19  29490    91       23     no_min   m      manager  \n",
              "111  30750 48  12   9000    91      314     min      m      Custodial\n",
              "218  80000 24  15  15750    82       34     no_min   m      Clerical \n",
              "274  83750 24  16  21750    79       12     no_min   m      manager  \n",
              "371  58125 22  16  18000    71       11     no_min   f      manager  \n",
              "448  70000 22  16  21750    65       19     no_min   m      manager  \n",
              "    sal_inc_ratio\n",
              "17  3.228070     \n",
              "18  3.771356     \n",
              "52  3.010000     \n",
              "72  3.000000     \n",
              "106 3.094269     \n",
              "111 3.416667     \n",
              "218 5.079365     \n",
              "274 3.850575     \n",
              "371 3.229167     \n",
              "448 3.218391     "
            ]
          },
          "metadata": {}
        }
      ]
    },
    {
      "cell_type": "code",
      "source": [
        "# 42Page Q3 : sal_inc_ratio(임금인상률)이 3배 이상 오른 직원들의 평균 근로월을 구하자\n",
        "# hint : mean() 사용\n",
        "mean(employee$jobtime[employee$sal_inc_ratio >= 3])"
      ],
      "metadata": {
        "colab": {
          "base_uri": "https://localhost:8080/",
          "height": 34
        },
        "id": "vGI3yCHx29w4",
        "outputId": "e0dd54cb-6a48-4f8a-84b1-a4fbe90c0d05"
      },
      "execution_count": null,
      "outputs": [
        {
          "output_type": "display_data",
          "data": {
            "text/html": [
              "86"
            ],
            "text/markdown": "86",
            "text/latex": "86",
            "text/plain": [
              "[1] 86"
            ]
          },
          "metadata": {}
        }
      ]
    },
    {
      "cell_type": "code",
      "source": [
        "# 42Page Q4 : sal_inc_ratio(임금인상률)이 3배 이상 오른 직원들의 평균 근로월을 12로 나눠 평균 근속년수로 산정\n",
        "mean(employee$jobtime[employee$sal_inc_ratio >= 3]) / 12"
      ],
      "metadata": {
        "colab": {
          "base_uri": "https://localhost:8080/",
          "height": 34
        },
        "id": "ZAhvgYHM290X",
        "outputId": "f2307b3e-b910-43ed-8b00-a4e38c0006b8"
      },
      "execution_count": null,
      "outputs": [
        {
          "output_type": "display_data",
          "data": {
            "text/html": [
              "7.16666666666667"
            ],
            "text/markdown": "7.16666666666667",
            "text/latex": "7.16666666666667",
            "text/plain": [
              "[1] 7.166667"
            ]
          },
          "metadata": {}
        }
      ]
    },
    {
      "cell_type": "markdown",
      "source": [
        "# 45Page 예제 (plot 생성)"
      ],
      "metadata": {
        "id": "0DO2ITEm3eqx"
      }
    },
    {
      "cell_type": "code",
      "source": [
        "plot(employee$prevexp, employee$sal_inc_ratio)"
      ],
      "metadata": {
        "id": "Dh530tdjPXuG",
        "colab": {
          "base_uri": "https://localhost:8080/",
          "height": 437
        },
        "outputId": "ef217927-8e46-4f72-b443-519d9c9d03f2"
      },
      "execution_count": null,
      "outputs": [
        {
          "output_type": "display_data",
          "data": {
            "text/plain": [
              "plot without title"
            ],
            "image/png": "[encoded data removed]"
          },
          "metadata": {
            "image/png": {
              "width": 420,
              "height": 420
            }
          }
        }
      ]
    },
    {
      "cell_type": "markdown",
      "source": [
        "# 46Page 최종 실습"
      ],
      "metadata": {
        "id": "3jl8y8QN3oo5"
      }
    },
    {
      "cell_type": "code",
      "source": [
        "########################### 46page 최종 실습 문제 #############################\n",
        "# 46Page Q1 : 1번부터 400번까지의 직원들만 선별\n",
        "employee1 = employee[?]\n",
        "\n",
        "head(employee1)"
      ],
      "metadata": {
        "colab": {
          "base_uri": "https://localhost:8080/",
          "height": 286
        },
        "id": "GHPFdHvgRtQO",
        "outputId": "6ee4b9e2-aba9-42d8-9692-2234b94883ee"
      },
      "execution_count": null,
      "outputs": [
        {
          "output_type": "display_data",
          "data": {
            "text/html": [
              "<table class=\"dataframe\">\n",
              "<caption>A data.frame: 6 × 11</caption>\n",
              "<thead>\n",
              "\t<tr><th></th><th scope=col>salary</th><th scope=col>age</th><th scope=col>edu</th><th scope=col>startsal</th><th scope=col>jobtime</th><th scope=col>prevexp</th><th scope=col>minority</th><th scope=col>gender</th><th scope=col>jobcat</th><th scope=col>jobyear</th><th scope=col>sal_inc_ratio</th></tr>\n",
              "\t<tr><th></th><th scope=col>&lt;int&gt;</th><th scope=col>&lt;int&gt;</th><th scope=col>&lt;int&gt;</th><th scope=col>&lt;int&gt;</th><th scope=col>&lt;int&gt;</th><th scope=col>&lt;int&gt;</th><th scope=col>&lt;fct&gt;</th><th scope=col>&lt;fct&gt;</th><th scope=col>&lt;fct&gt;</th><th scope=col>&lt;dbl&gt;</th><th scope=col>&lt;dbl&gt;</th></tr>\n",
              "</thead>\n",
              "<tbody>\n",
              "\t<tr><th scope=row>1</th><td>57000</td><td>36</td><td>15</td><td>27000</td><td>98</td><td>144</td><td>no_min</td><td>m</td><td>manager </td><td>8.166667</td><td>2.111111</td></tr>\n",
              "\t<tr><th scope=row>2</th><td>40200</td><td>30</td><td>16</td><td>18750</td><td>98</td><td> 36</td><td>no_min</td><td>m</td><td>Clerical</td><td>8.166667</td><td>2.144000</td></tr>\n",
              "\t<tr><th scope=row>3</th><td>21450</td><td>59</td><td>12</td><td>12000</td><td>98</td><td>381</td><td>no_min</td><td>f</td><td>Clerical</td><td>8.166667</td><td>1.787500</td></tr>\n",
              "\t<tr><th scope=row>4</th><td>21900</td><td>41</td><td> 8</td><td>13200</td><td>98</td><td>190</td><td>no_min</td><td>f</td><td>Clerical</td><td>8.166667</td><td>1.659091</td></tr>\n",
              "\t<tr><th scope=row>5</th><td>45000</td><td>33</td><td>15</td><td>21000</td><td>98</td><td>138</td><td>no_min</td><td>m</td><td>Clerical</td><td>8.166667</td><td>2.142857</td></tr>\n",
              "\t<tr><th scope=row>6</th><td>32100</td><td>30</td><td>15</td><td>13500</td><td>98</td><td> 67</td><td>no_min</td><td>m</td><td>Clerical</td><td>8.166667</td><td>2.377778</td></tr>\n",
              "</tbody>\n",
              "</table>\n"
            ],
            "text/markdown": "\nA data.frame: 6 × 11\n\n| <!--/--> | salary &lt;int&gt; | age &lt;int&gt; | edu &lt;int&gt; | startsal &lt;int&gt; | jobtime &lt;int&gt; | prevexp &lt;int&gt; | minority &lt;fct&gt; | gender &lt;fct&gt; | jobcat &lt;fct&gt; | jobyear &lt;dbl&gt; | sal_inc_ratio &lt;dbl&gt; |\n|---|---|---|---|---|---|---|---|---|---|---|---|\n| 1 | 57000 | 36 | 15 | 27000 | 98 | 144 | no_min | m | manager  | 8.166667 | 2.111111 |\n| 2 | 40200 | 30 | 16 | 18750 | 98 |  36 | no_min | m | Clerical | 8.166667 | 2.144000 |\n| 3 | 21450 | 59 | 12 | 12000 | 98 | 381 | no_min | f | Clerical | 8.166667 | 1.787500 |\n| 4 | 21900 | 41 |  8 | 13200 | 98 | 190 | no_min | f | Clerical | 8.166667 | 1.659091 |\n| 5 | 45000 | 33 | 15 | 21000 | 98 | 138 | no_min | m | Clerical | 8.166667 | 2.142857 |\n| 6 | 32100 | 30 | 15 | 13500 | 98 |  67 | no_min | m | Clerical | 8.166667 | 2.377778 |\n\n",
            "text/latex": "A data.frame: 6 × 11\n\\begin{tabular}{r|lllllllllll}\n  & salary & age & edu & startsal & jobtime & prevexp & minority & gender & jobcat & jobyear & sal\\_inc\\_ratio\\\\\n  & <int> & <int> & <int> & <int> & <int> & <int> & <fct> & <fct> & <fct> & <dbl> & <dbl>\\\\\n\\hline\n\t1 & 57000 & 36 & 15 & 27000 & 98 & 144 & no\\_min & m & manager  & 8.166667 & 2.111111\\\\\n\t2 & 40200 & 30 & 16 & 18750 & 98 &  36 & no\\_min & m & Clerical & 8.166667 & 2.144000\\\\\n\t3 & 21450 & 59 & 12 & 12000 & 98 & 381 & no\\_min & f & Clerical & 8.166667 & 1.787500\\\\\n\t4 & 21900 & 41 &  8 & 13200 & 98 & 190 & no\\_min & f & Clerical & 8.166667 & 1.659091\\\\\n\t5 & 45000 & 33 & 15 & 21000 & 98 & 138 & no\\_min & m & Clerical & 8.166667 & 2.142857\\\\\n\t6 & 32100 & 30 & 15 & 13500 & 98 &  67 & no\\_min & m & Clerical & 8.166667 & 2.377778\\\\\n\\end{tabular}\n",
            "text/plain": [
              "  salary age edu startsal jobtime prevexp minority gender jobcat   jobyear \n",
              "1 57000  36  15  27000    98      144     no_min   m      manager  8.166667\n",
              "2 40200  30  16  18750    98       36     no_min   m      Clerical 8.166667\n",
              "3 21450  59  12  12000    98      381     no_min   f      Clerical 8.166667\n",
              "4 21900  41   8  13200    98      190     no_min   f      Clerical 8.166667\n",
              "5 45000  33  15  21000    98      138     no_min   m      Clerical 8.166667\n",
              "6 32100  30  15  13500    98       67     no_min   m      Clerical 8.166667\n",
              "  sal_inc_ratio\n",
              "1 2.111111     \n",
              "2 2.144000     \n",
              "3 1.787500     \n",
              "4 1.659091     \n",
              "5 2.142857     \n",
              "6 2.377778     "
            ]
          },
          "metadata": {}
        }
      ]
    },
    {
      "cell_type": "code",
      "source": [
        "# 46Page Q2 : 해당 직원들 중 이전 경력이 300이하의 직원들만 추출\n",
        "employee2 = employee1[?]\n",
        "\n",
        "head(employee2)"
      ],
      "metadata": {
        "id": "kdiDOBxa3_BE"
      },
      "execution_count": null,
      "outputs": []
    },
    {
      "cell_type": "code",
      "source": [
        "# 46Page Q3 : Q2의 직원들 중 'manager' 직무는 제외\n",
        "employee3 = employee2[?]\n",
        "\n",
        "head(employee3)"
      ],
      "metadata": {
        "id": "EU3DQAV94Grd"
      },
      "execution_count": null,
      "outputs": []
    },
    {
      "cell_type": "code",
      "source": [
        "# 46Page Q4 : Q3 직원들 중 가장 높은 연봉을 계산\n",
        "# hint : max\n",
        "?(employee3$?)"
      ],
      "metadata": {
        "id": "yqABDKvz4Mh2"
      },
      "execution_count": null,
      "outputs": []
    },
    {
      "cell_type": "code",
      "source": [
        "# 46Page Q5 : Q4의 결과로 새로운 컬럼인 max_sal을 생성\n",
        "employee3$? = ?"
      ],
      "metadata": {
        "id": "am5ykI8e4bEq"
      },
      "execution_count": null,
      "outputs": []
    },
    {
      "cell_type": "code",
      "source": [
        "# 46Page Q6 : 직원들이 가장 높은 연봉 대비 몇 퍼센트의 연봉을 받는지 max_sal_ratio 컬럼을 생성\n",
        "# hint : /\n",
        "employee3$? = employee3$? / employee3$?"
      ],
      "metadata": {
        "id": "lTakUJTK4ii5"
      },
      "execution_count": null,
      "outputs": []
    },
    {
      "cell_type": "code",
      "source": [
        "# 46Page Q7 : max_sal_ratio와 근무월 컬럼을 사용해 plot 사용\n",
        "# hint : plot(x축 데이터, y축 데이터)\n",
        "plot(?,?)"
      ],
      "metadata": {
        "id": "n2L5FxGa4xhY"
      },
      "execution_count": null,
      "outputs": []
    },
    {
      "cell_type": "code",
      "source": [
        "# 46Page Q8 : 해당 plot을 보고 max_sal_ratio와 근무월 간의 관계를 해석"
      ],
      "metadata": {
        "id": "PhYIBeSz46dN"
      },
      "execution_count": null,
      "outputs": []
    },
    {
      "cell_type": "markdown",
      "source": [
        "# 46Page 최종 실습 정답"
      ],
      "metadata": {
        "id": "PKy21vO_5C0n"
      }
    },
    {
      "cell_type": "code",
      "source": [
        "########################### 46page 최종 실습 문제 정답 #############################\n",
        "# 46Page A1 : 1번부터 400번까지의 직원들만 선별\n",
        "employee1 = employee[1:400,]\n",
        "\n",
        "head(employee1)"
      ],
      "metadata": {
        "colab": {
          "base_uri": "https://localhost:8080/",
          "height": 286
        },
        "id": "Ey2FQuDFRro_",
        "outputId": "78b7e60a-2b74-47ba-ae25-f0cf15cc8770"
      },
      "execution_count": null,
      "outputs": [
        {
          "output_type": "display_data",
          "data": {
            "text/html": [
              "<table class=\"dataframe\">\n",
              "<caption>A data.frame: 6 × 10</caption>\n",
              "<thead>\n",
              "\t<tr><th></th><th scope=col>salary</th><th scope=col>age</th><th scope=col>edu</th><th scope=col>startsal</th><th scope=col>jobtime</th><th scope=col>prevexp</th><th scope=col>minority</th><th scope=col>gender</th><th scope=col>jobcat</th><th scope=col>sal_inc_ratio</th></tr>\n",
              "\t<tr><th></th><th scope=col>&lt;int&gt;</th><th scope=col>&lt;int&gt;</th><th scope=col>&lt;int&gt;</th><th scope=col>&lt;int&gt;</th><th scope=col>&lt;int&gt;</th><th scope=col>&lt;int&gt;</th><th scope=col>&lt;fct&gt;</th><th scope=col>&lt;fct&gt;</th><th scope=col>&lt;fct&gt;</th><th scope=col>&lt;dbl&gt;</th></tr>\n",
              "</thead>\n",
              "<tbody>\n",
              "\t<tr><th scope=row>1</th><td>57000</td><td>36</td><td>15</td><td>27000</td><td>98</td><td>144</td><td>no_min</td><td>m</td><td>manager </td><td>2.111111</td></tr>\n",
              "\t<tr><th scope=row>2</th><td>40200</td><td>30</td><td>16</td><td>18750</td><td>98</td><td> 36</td><td>no_min</td><td>m</td><td>Clerical</td><td>2.144000</td></tr>\n",
              "\t<tr><th scope=row>3</th><td>21450</td><td>59</td><td>12</td><td>12000</td><td>98</td><td>381</td><td>no_min</td><td>f</td><td>Clerical</td><td>1.787500</td></tr>\n",
              "\t<tr><th scope=row>4</th><td>21900</td><td>41</td><td> 8</td><td>13200</td><td>98</td><td>190</td><td>no_min</td><td>f</td><td>Clerical</td><td>1.659091</td></tr>\n",
              "\t<tr><th scope=row>5</th><td>45000</td><td>33</td><td>15</td><td>21000</td><td>98</td><td>138</td><td>no_min</td><td>m</td><td>Clerical</td><td>2.142857</td></tr>\n",
              "\t<tr><th scope=row>6</th><td>32100</td><td>30</td><td>15</td><td>13500</td><td>98</td><td> 67</td><td>no_min</td><td>m</td><td>Clerical</td><td>2.377778</td></tr>\n",
              "</tbody>\n",
              "</table>\n"
            ],
            "text/markdown": "\nA data.frame: 6 × 10\n\n| <!--/--> | salary &lt;int&gt; | age &lt;int&gt; | edu &lt;int&gt; | startsal &lt;int&gt; | jobtime &lt;int&gt; | prevexp &lt;int&gt; | minority &lt;fct&gt; | gender &lt;fct&gt; | jobcat &lt;fct&gt; | sal_inc_ratio &lt;dbl&gt; |\n|---|---|---|---|---|---|---|---|---|---|---|\n| 1 | 57000 | 36 | 15 | 27000 | 98 | 144 | no_min | m | manager  | 2.111111 |\n| 2 | 40200 | 30 | 16 | 18750 | 98 |  36 | no_min | m | Clerical | 2.144000 |\n| 3 | 21450 | 59 | 12 | 12000 | 98 | 381 | no_min | f | Clerical | 1.787500 |\n| 4 | 21900 | 41 |  8 | 13200 | 98 | 190 | no_min | f | Clerical | 1.659091 |\n| 5 | 45000 | 33 | 15 | 21000 | 98 | 138 | no_min | m | Clerical | 2.142857 |\n| 6 | 32100 | 30 | 15 | 13500 | 98 |  67 | no_min | m | Clerical | 2.377778 |\n\n",
            "text/latex": "A data.frame: 6 × 10\n\\begin{tabular}{r|llllllllll}\n  & salary & age & edu & startsal & jobtime & prevexp & minority & gender & jobcat & sal\\_inc\\_ratio\\\\\n  & <int> & <int> & <int> & <int> & <int> & <int> & <fct> & <fct> & <fct> & <dbl>\\\\\n\\hline\n\t1 & 57000 & 36 & 15 & 27000 & 98 & 144 & no\\_min & m & manager  & 2.111111\\\\\n\t2 & 40200 & 30 & 16 & 18750 & 98 &  36 & no\\_min & m & Clerical & 2.144000\\\\\n\t3 & 21450 & 59 & 12 & 12000 & 98 & 381 & no\\_min & f & Clerical & 1.787500\\\\\n\t4 & 21900 & 41 &  8 & 13200 & 98 & 190 & no\\_min & f & Clerical & 1.659091\\\\\n\t5 & 45000 & 33 & 15 & 21000 & 98 & 138 & no\\_min & m & Clerical & 2.142857\\\\\n\t6 & 32100 & 30 & 15 & 13500 & 98 &  67 & no\\_min & m & Clerical & 2.377778\\\\\n\\end{tabular}\n",
            "text/plain": [
              "  salary age edu startsal jobtime prevexp minority gender jobcat  \n",
              "1 57000  36  15  27000    98      144     no_min   m      manager \n",
              "2 40200  30  16  18750    98       36     no_min   m      Clerical\n",
              "3 21450  59  12  12000    98      381     no_min   f      Clerical\n",
              "4 21900  41   8  13200    98      190     no_min   f      Clerical\n",
              "5 45000  33  15  21000    98      138     no_min   m      Clerical\n",
              "6 32100  30  15  13500    98       67     no_min   m      Clerical\n",
              "  sal_inc_ratio\n",
              "1 2.111111     \n",
              "2 2.144000     \n",
              "3 1.787500     \n",
              "4 1.659091     \n",
              "5 2.142857     \n",
              "6 2.377778     "
            ]
          },
          "metadata": {}
        }
      ]
    },
    {
      "cell_type": "code",
      "source": [
        "# 46Page A2 : 해당 직원들 중 이전 경력이 300이하의 직원들만 추출\n",
        "employee2 = employee1[employee1$prevexp <= 300,]\n",
        "\n",
        "head(employee2)"
      ],
      "metadata": {
        "colab": {
          "base_uri": "https://localhost:8080/",
          "height": 286
        },
        "id": "HYfAVH3z5UT7",
        "outputId": "131443fe-9209-4fa7-e06a-09b06baf2676"
      },
      "execution_count": null,
      "outputs": [
        {
          "output_type": "display_data",
          "data": {
            "text/html": [
              "<table class=\"dataframe\">\n",
              "<caption>A data.frame: 6 × 10</caption>\n",
              "<thead>\n",
              "\t<tr><th></th><th scope=col>salary</th><th scope=col>age</th><th scope=col>edu</th><th scope=col>startsal</th><th scope=col>jobtime</th><th scope=col>prevexp</th><th scope=col>minority</th><th scope=col>gender</th><th scope=col>jobcat</th><th scope=col>sal_inc_ratio</th></tr>\n",
              "\t<tr><th></th><th scope=col>&lt;int&gt;</th><th scope=col>&lt;int&gt;</th><th scope=col>&lt;int&gt;</th><th scope=col>&lt;int&gt;</th><th scope=col>&lt;int&gt;</th><th scope=col>&lt;int&gt;</th><th scope=col>&lt;fct&gt;</th><th scope=col>&lt;fct&gt;</th><th scope=col>&lt;fct&gt;</th><th scope=col>&lt;dbl&gt;</th></tr>\n",
              "</thead>\n",
              "<tbody>\n",
              "\t<tr><th scope=row>1</th><td>57000</td><td>36</td><td>15</td><td>27000</td><td>98</td><td>144</td><td>no_min</td><td>m</td><td>manager </td><td>2.111111</td></tr>\n",
              "\t<tr><th scope=row>2</th><td>40200</td><td>30</td><td>16</td><td>18750</td><td>98</td><td> 36</td><td>no_min</td><td>m</td><td>Clerical</td><td>2.144000</td></tr>\n",
              "\t<tr><th scope=row>4</th><td>21900</td><td>41</td><td> 8</td><td>13200</td><td>98</td><td>190</td><td>no_min</td><td>f</td><td>Clerical</td><td>1.659091</td></tr>\n",
              "\t<tr><th scope=row>5</th><td>45000</td><td>33</td><td>15</td><td>21000</td><td>98</td><td>138</td><td>no_min</td><td>m</td><td>Clerical</td><td>2.142857</td></tr>\n",
              "\t<tr><th scope=row>6</th><td>32100</td><td>30</td><td>15</td><td>13500</td><td>98</td><td> 67</td><td>no_min</td><td>m</td><td>Clerical</td><td>2.377778</td></tr>\n",
              "\t<tr><th scope=row>7</th><td>36000</td><td>32</td><td>15</td><td>18750</td><td>98</td><td>114</td><td>no_min</td><td>m</td><td>Clerical</td><td>1.920000</td></tr>\n",
              "</tbody>\n",
              "</table>\n"
            ],
            "text/markdown": "\nA data.frame: 6 × 10\n\n| <!--/--> | salary &lt;int&gt; | age &lt;int&gt; | edu &lt;int&gt; | startsal &lt;int&gt; | jobtime &lt;int&gt; | prevexp &lt;int&gt; | minority &lt;fct&gt; | gender &lt;fct&gt; | jobcat &lt;fct&gt; | sal_inc_ratio &lt;dbl&gt; |\n|---|---|---|---|---|---|---|---|---|---|---|\n| 1 | 57000 | 36 | 15 | 27000 | 98 | 144 | no_min | m | manager  | 2.111111 |\n| 2 | 40200 | 30 | 16 | 18750 | 98 |  36 | no_min | m | Clerical | 2.144000 |\n| 4 | 21900 | 41 |  8 | 13200 | 98 | 190 | no_min | f | Clerical | 1.659091 |\n| 5 | 45000 | 33 | 15 | 21000 | 98 | 138 | no_min | m | Clerical | 2.142857 |\n| 6 | 32100 | 30 | 15 | 13500 | 98 |  67 | no_min | m | Clerical | 2.377778 |\n| 7 | 36000 | 32 | 15 | 18750 | 98 | 114 | no_min | m | Clerical | 1.920000 |\n\n",
            "text/latex": "A data.frame: 6 × 10\n\\begin{tabular}{r|llllllllll}\n  & salary & age & edu & startsal & jobtime & prevexp & minority & gender & jobcat & sal\\_inc\\_ratio\\\\\n  & <int> & <int> & <int> & <int> & <int> & <int> & <fct> & <fct> & <fct> & <dbl>\\\\\n\\hline\n\t1 & 57000 & 36 & 15 & 27000 & 98 & 144 & no\\_min & m & manager  & 2.111111\\\\\n\t2 & 40200 & 30 & 16 & 18750 & 98 &  36 & no\\_min & m & Clerical & 2.144000\\\\\n\t4 & 21900 & 41 &  8 & 13200 & 98 & 190 & no\\_min & f & Clerical & 1.659091\\\\\n\t5 & 45000 & 33 & 15 & 21000 & 98 & 138 & no\\_min & m & Clerical & 2.142857\\\\\n\t6 & 32100 & 30 & 15 & 13500 & 98 &  67 & no\\_min & m & Clerical & 2.377778\\\\\n\t7 & 36000 & 32 & 15 & 18750 & 98 & 114 & no\\_min & m & Clerical & 1.920000\\\\\n\\end{tabular}\n",
            "text/plain": [
              "  salary age edu startsal jobtime prevexp minority gender jobcat  \n",
              "1 57000  36  15  27000    98      144     no_min   m      manager \n",
              "2 40200  30  16  18750    98       36     no_min   m      Clerical\n",
              "4 21900  41   8  13200    98      190     no_min   f      Clerical\n",
              "5 45000  33  15  21000    98      138     no_min   m      Clerical\n",
              "6 32100  30  15  13500    98       67     no_min   m      Clerical\n",
              "7 36000  32  15  18750    98      114     no_min   m      Clerical\n",
              "  sal_inc_ratio\n",
              "1 2.111111     \n",
              "2 2.144000     \n",
              "4 1.659091     \n",
              "5 2.142857     \n",
              "6 2.377778     \n",
              "7 1.920000     "
            ]
          },
          "metadata": {}
        }
      ]
    },
    {
      "cell_type": "code",
      "source": [
        "# 46Page A3 : Q2의 직원들 중 'manager' 직무는 제외\n",
        "employee3 = employee2[employee2$jobcat != 'manager',]\n",
        "\n",
        "head(employee3)"
      ],
      "metadata": {
        "colab": {
          "base_uri": "https://localhost:8080/",
          "height": 286
        },
        "id": "g8ZJsCGt5YW_",
        "outputId": "7eaf034d-0b0f-4a71-84bd-8a24b6549025"
      },
      "execution_count": null,
      "outputs": [
        {
          "output_type": "display_data",
          "data": {
            "text/html": [
              "<table class=\"dataframe\">\n",
              "<caption>A data.frame: 6 × 10</caption>\n",
              "<thead>\n",
              "\t<tr><th></th><th scope=col>salary</th><th scope=col>age</th><th scope=col>edu</th><th scope=col>startsal</th><th scope=col>jobtime</th><th scope=col>prevexp</th><th scope=col>minority</th><th scope=col>gender</th><th scope=col>jobcat</th><th scope=col>sal_inc_ratio</th></tr>\n",
              "\t<tr><th></th><th scope=col>&lt;int&gt;</th><th scope=col>&lt;int&gt;</th><th scope=col>&lt;int&gt;</th><th scope=col>&lt;int&gt;</th><th scope=col>&lt;int&gt;</th><th scope=col>&lt;int&gt;</th><th scope=col>&lt;fct&gt;</th><th scope=col>&lt;fct&gt;</th><th scope=col>&lt;fct&gt;</th><th scope=col>&lt;dbl&gt;</th></tr>\n",
              "</thead>\n",
              "<tbody>\n",
              "\t<tr><th scope=row>2</th><td>40200</td><td>30</td><td>16</td><td>18750</td><td>98</td><td> 36</td><td>no_min</td><td>m</td><td>Clerical</td><td>2.144000</td></tr>\n",
              "\t<tr><th scope=row>4</th><td>21900</td><td>41</td><td> 8</td><td>13200</td><td>98</td><td>190</td><td>no_min</td><td>f</td><td>Clerical</td><td>1.659091</td></tr>\n",
              "\t<tr><th scope=row>5</th><td>45000</td><td>33</td><td>15</td><td>21000</td><td>98</td><td>138</td><td>no_min</td><td>m</td><td>Clerical</td><td>2.142857</td></tr>\n",
              "\t<tr><th scope=row>6</th><td>32100</td><td>30</td><td>15</td><td>13500</td><td>98</td><td> 67</td><td>no_min</td><td>m</td><td>Clerical</td><td>2.377778</td></tr>\n",
              "\t<tr><th scope=row>7</th><td>36000</td><td>32</td><td>15</td><td>18750</td><td>98</td><td>114</td><td>no_min</td><td>m</td><td>Clerical</td><td>1.920000</td></tr>\n",
              "\t<tr><th scope=row>8</th><td>21900</td><td>22</td><td>12</td><td> 9750</td><td>98</td><td>  0</td><td>no_min</td><td>f</td><td>Clerical</td><td>2.246154</td></tr>\n",
              "</tbody>\n",
              "</table>\n"
            ],
            "text/markdown": "\nA data.frame: 6 × 10\n\n| <!--/--> | salary &lt;int&gt; | age &lt;int&gt; | edu &lt;int&gt; | startsal &lt;int&gt; | jobtime &lt;int&gt; | prevexp &lt;int&gt; | minority &lt;fct&gt; | gender &lt;fct&gt; | jobcat &lt;fct&gt; | sal_inc_ratio &lt;dbl&gt; |\n|---|---|---|---|---|---|---|---|---|---|---|\n| 2 | 40200 | 30 | 16 | 18750 | 98 |  36 | no_min | m | Clerical | 2.144000 |\n| 4 | 21900 | 41 |  8 | 13200 | 98 | 190 | no_min | f | Clerical | 1.659091 |\n| 5 | 45000 | 33 | 15 | 21000 | 98 | 138 | no_min | m | Clerical | 2.142857 |\n| 6 | 32100 | 30 | 15 | 13500 | 98 |  67 | no_min | m | Clerical | 2.377778 |\n| 7 | 36000 | 32 | 15 | 18750 | 98 | 114 | no_min | m | Clerical | 1.920000 |\n| 8 | 21900 | 22 | 12 |  9750 | 98 |   0 | no_min | f | Clerical | 2.246154 |\n\n",
            "text/latex": "A data.frame: 6 × 10\n\\begin{tabular}{r|llllllllll}\n  & salary & age & edu & startsal & jobtime & prevexp & minority & gender & jobcat & sal\\_inc\\_ratio\\\\\n  & <int> & <int> & <int> & <int> & <int> & <int> & <fct> & <fct> & <fct> & <dbl>\\\\\n\\hline\n\t2 & 40200 & 30 & 16 & 18750 & 98 &  36 & no\\_min & m & Clerical & 2.144000\\\\\n\t4 & 21900 & 41 &  8 & 13200 & 98 & 190 & no\\_min & f & Clerical & 1.659091\\\\\n\t5 & 45000 & 33 & 15 & 21000 & 98 & 138 & no\\_min & m & Clerical & 2.142857\\\\\n\t6 & 32100 & 30 & 15 & 13500 & 98 &  67 & no\\_min & m & Clerical & 2.377778\\\\\n\t7 & 36000 & 32 & 15 & 18750 & 98 & 114 & no\\_min & m & Clerical & 1.920000\\\\\n\t8 & 21900 & 22 & 12 &  9750 & 98 &   0 & no\\_min & f & Clerical & 2.246154\\\\\n\\end{tabular}\n",
            "text/plain": [
              "  salary age edu startsal jobtime prevexp minority gender jobcat  \n",
              "2 40200  30  16  18750    98       36     no_min   m      Clerical\n",
              "4 21900  41   8  13200    98      190     no_min   f      Clerical\n",
              "5 45000  33  15  21000    98      138     no_min   m      Clerical\n",
              "6 32100  30  15  13500    98       67     no_min   m      Clerical\n",
              "7 36000  32  15  18750    98      114     no_min   m      Clerical\n",
              "8 21900  22  12   9750    98        0     no_min   f      Clerical\n",
              "  sal_inc_ratio\n",
              "2 2.144000     \n",
              "4 1.659091     \n",
              "5 2.142857     \n",
              "6 2.377778     \n",
              "7 1.920000     \n",
              "8 2.246154     "
            ]
          },
          "metadata": {}
        }
      ]
    },
    {
      "cell_type": "code",
      "source": [
        "# 46Page A4 : Q3 직원들 중 가장 높은 연봉을 계산\n",
        "# hint : max\n",
        "max(employee3$salary)"
      ],
      "metadata": {
        "colab": {
          "base_uri": "https://localhost:8080/",
          "height": 34
        },
        "id": "uiA-cLYG5Yvz",
        "outputId": "0ed6d783-7bfd-4932-a04d-61ec98fde599"
      },
      "execution_count": null,
      "outputs": [
        {
          "output_type": "display_data",
          "data": {
            "text/html": [
              "80000"
            ],
            "text/markdown": "80000",
            "text/latex": "80000",
            "text/plain": [
              "[1] 80000"
            ]
          },
          "metadata": {}
        }
      ]
    },
    {
      "cell_type": "code",
      "source": [
        "# 46Page A5 : Q4의 결과로 새로운 컬럼인 max_sal을 생성\n",
        "employee3$max_sal = max(employee3$salary)"
      ],
      "metadata": {
        "id": "C9zfD_X45Yx2"
      },
      "execution_count": null,
      "outputs": []
    },
    {
      "cell_type": "code",
      "source": [
        "# 46Page A6 : 직원들이 가장 높은 연봉 대비 몇 퍼센트의 연봉을 받는지 max_sal_ratio 컬럼을 생성\n",
        "# hint : / (나누기)\n",
        "employee3$max_sal_ratio = employee3$salary / employee3$max_sal"
      ],
      "metadata": {
        "id": "zTU38eqt5Y0Q"
      },
      "execution_count": null,
      "outputs": []
    },
    {
      "cell_type": "code",
      "source": [
        "# 46Page A7 : max_sal_ratio와 근무월 컬럼을 사용해 plot 사용\n",
        "# hint : plot(x축 데이터, y축 데이터)\n",
        "plot(employee3$max_sal_ratio,employee3$jobtime)"
      ],
      "metadata": {
        "colab": {
          "base_uri": "https://localhost:8080/",
          "height": 437
        },
        "id": "XbyspHDv5c8B",
        "outputId": "8fc6cef2-73be-4645-8c05-052317456bf7"
      },
      "execution_count": null,
      "outputs": [
        {
          "output_type": "display_data",
          "data": {
            "text/plain": [
              "plot without title"
            ],
            "image/png": "[encoded data removed]"
          },
          "metadata": {
            "image/png": {
              "width": 420,
              "height": 420
            }
          }
        }
      ]
    },
    {
      "cell_type": "code",
      "source": [
        "# 46Page A8 : 해당 plot을 보고 max_sal_ratio와 근무월 간의 관계를 해석\n",
        "# 크게 의미는 없지만 신기한 것이 근무월 80개월인 직원이 가장 높은 임금을 받음"
      ],
      "metadata": {
        "id": "QQPEK_Cz5dDF"
      },
      "execution_count": null,
      "outputs": []
    },
    {
      "cell_type": "markdown",
      "source": [
        "# 수고하셨습니다"
      ],
      "metadata": {
        "id": "8jXIqg6B6_3p"
      }
    }
  ]
}